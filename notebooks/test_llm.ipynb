{
 "cells": [
  {
   "cell_type": "code",
   "execution_count": 1,
   "metadata": {},
   "outputs": [],
   "source": [
    "from resume_avis import ResumerAvis\n",
    "import sqlite3\n",
    "import pandas as pd"
   ]
  },
  {
   "cell_type": "code",
   "execution_count": 2,
   "metadata": {},
   "outputs": [],
   "source": [
    "#Chemin vers la DB\n",
    "db_path = \"../../data/database.db\"\n",
    "\n",
    "# Connexion à la base de données\n",
    "conn = sqlite3.connect(db_path)\n",
    "\n",
    "#Receuil des restaurants\n",
    "query = \"SELECT * FROM avis\"\n",
    "\n",
    "avis = pd.read_sql_query(query, conn)\n",
    "\n",
    "conn.close()"
   ]
  },
  {
   "cell_type": "code",
   "execution_count": 3,
   "metadata": {},
   "outputs": [
    {
     "data": {
      "text/html": [
       "<div>\n",
       "<style scoped>\n",
       "    .dataframe tbody tr th:only-of-type {\n",
       "        vertical-align: middle;\n",
       "    }\n",
       "\n",
       "    .dataframe tbody tr th {\n",
       "        vertical-align: top;\n",
       "    }\n",
       "\n",
       "    .dataframe thead th {\n",
       "        text-align: right;\n",
       "    }\n",
       "</style>\n",
       "<table border=\"1\" class=\"dataframe\">\n",
       "  <thead>\n",
       "    <tr style=\"text-align: right;\">\n",
       "      <th></th>\n",
       "      <th>id</th>\n",
       "      <th>id_restaurant</th>\n",
       "      <th>date</th>\n",
       "      <th>note</th>\n",
       "      <th>commentaire</th>\n",
       "    </tr>\n",
       "  </thead>\n",
       "  <tbody>\n",
       "    <tr>\n",
       "      <th>0</th>\n",
       "      <td>1</td>\n",
       "      <td>1</td>\n",
       "      <td>déc. 2024</td>\n",
       "      <td>2,0</td>\n",
       "      <td>quantité: garniture e ma galette minable: 4 mi...</td>\n",
       "    </tr>\n",
       "    <tr>\n",
       "      <th>1</th>\n",
       "      <td>2</td>\n",
       "      <td>1</td>\n",
       "      <td>déc. 2024</td>\n",
       "      <td>5,0</td>\n",
       "      <td>Juste après un cinéma, déjeuner en famille ave...</td>\n",
       "    </tr>\n",
       "    <tr>\n",
       "      <th>2</th>\n",
       "      <td>3</td>\n",
       "      <td>1</td>\n",
       "      <td>nov. 2024</td>\n",
       "      <td>2,0</td>\n",
       "      <td>Restaurant sans intérêt, la crêpe salée est tr...</td>\n",
       "    </tr>\n",
       "    <tr>\n",
       "      <th>3</th>\n",
       "      <td>4</td>\n",
       "      <td>1</td>\n",
       "      <td>oct. 2024</td>\n",
       "      <td>2,0</td>\n",
       "      <td>On a demandé la crêpe du jour...ah bah pas pen...</td>\n",
       "    </tr>\n",
       "    <tr>\n",
       "      <th>4</th>\n",
       "      <td>5</td>\n",
       "      <td>1</td>\n",
       "      <td>oct. 2024</td>\n",
       "      <td>2,0</td>\n",
       "      <td>Absolument aucun intérêt culinaire... les crêp...</td>\n",
       "    </tr>\n",
       "  </tbody>\n",
       "</table>\n",
       "</div>"
      ],
      "text/plain": [
       "   id  id_restaurant       date note  \\\n",
       "0   1              1  déc. 2024  2,0   \n",
       "1   2              1  déc. 2024  5,0   \n",
       "2   3              1  nov. 2024  2,0   \n",
       "3   4              1  oct. 2024  2,0   \n",
       "4   5              1  oct. 2024  2,0   \n",
       "\n",
       "                                         commentaire  \n",
       "0  quantité: garniture e ma galette minable: 4 mi...  \n",
       "1  Juste après un cinéma, déjeuner en famille ave...  \n",
       "2  Restaurant sans intérêt, la crêpe salée est tr...  \n",
       "3  On a demandé la crêpe du jour...ah bah pas pen...  \n",
       "4  Absolument aucun intérêt culinaire... les crêp...  "
      ]
     },
     "execution_count": 3,
     "metadata": {},
     "output_type": "execute_result"
    }
   ],
   "source": [
    "avis.head(\n",
    ")"
   ]
  },
  {
   "cell_type": "code",
   "execution_count": 4,
   "metadata": {},
   "outputs": [],
   "source": [
    "avis_resto_1 = list(avis[\"commentaire\"][avis[\"id_restaurant\"] == 1])\n",
    "avis_resto_2 = list(avis[\"commentaire\"][avis[\"id_restaurant\"] == 2])"
   ]
  },
  {
   "cell_type": "code",
   "execution_count": 5,
   "metadata": {},
   "outputs": [
    {
     "data": {
      "text/plain": [
       "[\"Ambiance soignée, patrons amicaux et donnant toutes les explications bienvenues sur l'histoire de leur restaurant et sur les plats. De beaux plats, 2 à 3 choix par type. Très bien cuisiné, assaisonné et portions équilibrées. Belle carte des vins, très fournies. Bravo à vous, nous reviendrons\",\n",
       " 'Vous voulez bien manger, alors allez dans ce restaurant. Tout est parfait. L\\'accueil, la sympathie du personnel, excellent.\\r\\nVous pouvez même vous rendre en cuisine pour féliciter le cuisinier, il est très content d\\'entendre votre satisfaction.\\r\\nJe le recommande vivement. En sortant du restaurant, mes amis m\\'ont dit \" il faut que l\\'on revienne ici, trop bon \"',\n",
       " 'Tout simplement parfait de l’entrée au dessert en passant par les vins et le service. \\r\\n\\r\\nAssurément un des meilleurs restaurant de ma vie !\\r\\n\\r\\nMerci Frazarin.',\n",
       " 'Belle soirée passée au Frazarin. Certainement encore plus recommandable pour les amateurs de vin(s). Personnel également très avenant.',\n",
       " \"Très bon restaurant ! j'ai adoré le service et l'offre de restauration, le lieu est convivial ! je recommande à tous les amateur d'Italien\"]"
      ]
     },
     "execution_count": 5,
     "metadata": {},
     "output_type": "execute_result"
    }
   ],
   "source": [
    "avis_resto_2[:5]"
   ]
  },
  {
   "cell_type": "markdown",
   "metadata": {},
   "source": [
    "# Résumé des avis pour 1 restaurant"
   ]
  },
  {
   "cell_type": "code",
   "execution_count": 6,
   "metadata": {},
   "outputs": [],
   "source": [
    "resume = ResumerAvis(type_query='analyze_1')"
   ]
  },
  {
   "cell_type": "code",
   "execution_count": 7,
   "metadata": {},
   "outputs": [],
   "source": [
    "test_1 = resume.generer_resume(avis_resto_1)"
   ]
  },
  {
   "cell_type": "code",
   "execution_count": 8,
   "metadata": {},
   "outputs": [
    {
     "data": {
      "text/plain": [
       "\"Les aspects positifs les plus fréquemment mentionnés dans les avis clients pour ce restaurant sont le service rapide, le personnel sympathique et l'accueil chaleureux. Certains clients ont également apprécié la qualité des produits et la variété des options proposées.\\n\\nCependant, plusieurs aspects négatifs ont été soulevés par les clients, notamment la qualité de la nourriture, en particulier les crêpes qui ont été décrites comme étant trop légères, mal garnies ou mal cuites. Le prix élevé pour la quantité de nourriture proposée a également été critiqué par plusieurs clients. Enfin, certains clients ont mentionné des problèmes de propreté et de service.\\n\\nEn conclusion, les avis sont mitigés sur ce restaurant. Certains clients ont apprécié leur expérience, tandis que d'autres ont été déçus par la qualité de la nourriture et le prix élevé. Il est donc difficile de donner une recommandation claire pour ce restaurant.\""
      ]
     },
     "execution_count": 8,
     "metadata": {},
     "output_type": "execute_result"
    }
   ],
   "source": [
    "test_1"
   ]
  },
  {
   "cell_type": "markdown",
   "metadata": {},
   "source": [
    "# Résumé et comparaison des avis pour 2 restaurants "
   ]
  },
  {
   "cell_type": "code",
   "execution_count": 9,
   "metadata": {},
   "outputs": [],
   "source": [
    "resume2 = ResumerAvis(type_query='analyze_2')"
   ]
  },
  {
   "cell_type": "code",
   "execution_count": 14,
   "metadata": {},
   "outputs": [],
   "source": [
    "test_2 = resume2.generer_resume(avis_restaurant_1= avis_resto_1, avis_restaurant_2= avis_resto_2)"
   ]
  },
  {
   "cell_type": "code",
   "execution_count": 15,
   "metadata": {},
   "outputs": [
    {
     "data": {
      "text/plain": [
       "\"1. Les aspects positifs les plus fréquemment mentionnés pour chaque restaurant :\\n* Restaurant A :\\n\\t+ Cuisine de qualité\\n\\t+ Service attentionné et sympathique\\n\\t+ Ambiance chaleureuse et conviviale\\n\\t+ Rapport qualité-prix intéressant\\n\\t+ Large choix de plats et de boissons\\n* Restaurant B :\\n\\t+ Cuisine inventive et originale\\n\\t+ Personnel accueillant et professionnel\\n\\t+ Décoration soignée et originale\\n\\t+ Situation centrale et facile d'accès\\n\\t+ Service rapide et efficace\\n2. Les aspects négatifs ou critiques pour chaque restaurant :\\n* Restaurant A :\\n\\t- some customers have mentioned that the service can be slow at times\\n\\t- the decor could be updated to give a more modern feel\\n* Restaurant B :\\n\\t- some customers have mentioned that the prices can be a bit high for the portion sizes\\n\\t- the waiting time for a table can be quite long during peak hours\\n3. Une conclusion générale sur la satisfaction des clients pour chaque restaurant :\\n* Restaurant A :\\n\\t+ Overall, customers seem to be very satisfied with their experience at Restaurant A, with many mentioning the quality of the food, the attentive service, and the welcoming atmosphere.\\n* Restaurant B :\\n\\t+ Overall, customers seem to be satisfied with their experience at Restaurant B, with many mentioning the creative cuisine, the professional service, and the unique decor.\\n4. Faire une recommandation sur le restaurant qu'il faut choisir entre les deux :\\nSi vous cherchez un restaurant avec une cuisine de qualité, un service attentionné et une ambiance chaleureuse, je vous recommande le Restaurant A. Si vous préférez une cuisine inventive et originale, un personnel accueillant et professionnel, une décoration soignée et originale, et une situation centrale et facile d'accès, je vous recommande le Restaurant B.\""
      ]
     },
     "execution_count": 15,
     "metadata": {},
     "output_type": "execute_result"
    }
   ],
   "source": [
    "test_2"
   ]
  }
 ],
 "metadata": {
  "kernelspec": {
   "display_name": "projetnlp",
   "language": "python",
   "name": "python3"
  },
  "language_info": {
   "codemirror_mode": {
    "name": "ipython",
    "version": 3
   },
   "file_extension": ".py",
   "mimetype": "text/x-python",
   "name": "python",
   "nbconvert_exporter": "python",
   "pygments_lexer": "ipython3",
   "version": "3.9.6"
  }
 },
 "nbformat": 4,
 "nbformat_minor": 2
}
