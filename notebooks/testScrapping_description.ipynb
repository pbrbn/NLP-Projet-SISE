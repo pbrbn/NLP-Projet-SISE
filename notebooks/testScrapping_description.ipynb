{
 "cells": [
  {
   "cell_type": "code",
   "execution_count": 48,
   "metadata": {},
   "outputs": [],
   "source": [
    "import sys\n",
    "\n",
    "sys.path.insert(1, '../src/scraping')\n",
    "\n",
    "from scrap_description import description_resto\n",
    "from class_webscrapping import WebScraper\n",
    "from address_to_coord import find_coord"
   ]
  },
  {
   "cell_type": "code",
   "execution_count": 47,
   "metadata": {},
   "outputs": [
    {
     "name": "stdout",
     "output_type": "stream",
     "text": [
      "Collecting geopy\n",
      "  Downloading geopy-2.4.1-py3-none-any.whl.metadata (6.8 kB)\n",
      "Collecting geographiclib<3,>=1.52 (from geopy)\n",
      "  Downloading geographiclib-2.0-py3-none-any.whl.metadata (1.4 kB)\n",
      "Downloading geopy-2.4.1-py3-none-any.whl (125 kB)\n",
      "Downloading geographiclib-2.0-py3-none-any.whl (40 kB)\n",
      "Installing collected packages: geographiclib, geopy\n",
      "Successfully installed geographiclib-2.0 geopy-2.4.1\n"
     ]
    }
   ],
   "source": [
    "#!pip install geopy"
   ]
  },
  {
   "cell_type": "code",
   "execution_count": 16,
   "metadata": {},
   "outputs": [
    {
     "name": "stdout",
     "output_type": "stream",
     "text": [
      "Help on module scrap_description:\n",
      "\n",
      "NAME\n",
      "    scrap_description\n",
      "\n",
      "FUNCTIONS\n",
      "    description_resto(url: str)\n",
      "        Scrape la description d'un restaurant à partir d'une URL de base.\n",
      "        Arguments : \n",
      "            - url : une URL de la page web contenant les avis.\n",
      "        \n",
      "        Retourne : \n",
      "            - un dataframe pandas contenant : \n",
      "                - le nom du restaurant \n",
      "                - la description du restaurant\n",
      "\n",
      "FILE\n",
      "    d:\\github\\nlp-projet-sise\\src\\scraping\\scrap_description.py\n",
      "\n",
      "\n"
     ]
    }
   ],
   "source": [
    "help(scrap_description)\n"
   ]
  },
  {
   "cell_type": "code",
   "execution_count": 45,
   "metadata": {},
   "outputs": [
    {
     "ename": "TypeError",
     "evalue": "'NoneType' object is not iterable",
     "output_type": "error",
     "traceback": [
      "\u001b[1;31m---------------------------------------------------------------------------\u001b[0m",
      "\u001b[1;31mTypeError\u001b[0m                                 Traceback (most recent call last)",
      "Cell \u001b[1;32mIn[45], line 1\u001b[0m\n\u001b[1;32m----> 1\u001b[0m description_jojo \u001b[38;5;241m=\u001b[39m \u001b[43mdescription_resto\u001b[49m\u001b[43m(\u001b[49m\u001b[38;5;124;43m\"\u001b[39;49m\u001b[38;5;124;43mhttps://www.tripadvisor.fr/Restaurant_Review-g187265-d15114321-Reviews-L_affreux_Jojo-Lyon_Rhone_Auvergne_Rhone_Alpes.html\u001b[39;49m\u001b[38;5;124;43m\"\u001b[39;49m\u001b[43m)\u001b[49m\n",
      "File \u001b[1;32md:\\GitHub\\NLP-Projet-SISE\\notebooks\\../src/scraping\\scrap_description.py:45\u001b[0m, in \u001b[0;36mdescription_resto\u001b[1;34m(url)\u001b[0m\n\u001b[0;32m     43\u001b[0m \u001b[38;5;66;03m##### NOM RESTO #####\u001b[39;00m\n\u001b[0;32m     44\u001b[0m borne_nom \u001b[38;5;241m=\u001b[39m soup\u001b[38;5;241m.\u001b[39mfind(\u001b[38;5;124m'\u001b[39m\u001b[38;5;124mh1\u001b[39m\u001b[38;5;124m'\u001b[39m, {\u001b[38;5;124m'\u001b[39m\u001b[38;5;124mclass\u001b[39m\u001b[38;5;124m'\u001b[39m : \u001b[38;5;124m'\u001b[39m\u001b[38;5;124mbiGQs _P hzzSG rRtyp\u001b[39m\u001b[38;5;124m'\u001b[39m})\n\u001b[1;32m---> 45\u001b[0m \u001b[43m\u001b[49m\u001b[38;5;28;43;01mfor\u001b[39;49;00m\u001b[43m \u001b[49m\u001b[43mnom\u001b[49m\u001b[43m \u001b[49m\u001b[38;5;129;43;01min\u001b[39;49;00m\u001b[43m \u001b[49m\u001b[43mborne_nom\u001b[49m\u001b[43m \u001b[49m\u001b[43m:\u001b[49m\n\u001b[0;32m     46\u001b[0m \u001b[43m    \u001b[49m\u001b[43mnom_resto\u001b[49m\u001b[38;5;241;43m.\u001b[39;49m\u001b[43mappend\u001b[49m\u001b[43m(\u001b[49m\u001b[43mnom\u001b[49m\u001b[38;5;241;43m.\u001b[39;49m\u001b[43mtext\u001b[49m\u001b[43m)\u001b[49m\n\u001b[0;32m     49\u001b[0m \u001b[38;5;66;03m##### DESCRIPTION #####\u001b[39;00m\n\u001b[0;32m     50\u001b[0m \u001b[38;5;66;03m# #Trouver le parent\u001b[39;00m\n",
      "\u001b[1;31mTypeError\u001b[0m: 'NoneType' object is not iterable"
     ]
    }
   ],
   "source": [
    "description_jojo = description_resto(\"https://www.tripadvisor.fr/Restaurant_Review-g187265-d15114321-Reviews-L_affreux_Jojo-Lyon_Rhone_Auvergne_Rhone_Alpes.html\")"
   ]
  },
  {
   "cell_type": "code",
   "execution_count": 17,
   "metadata": {},
   "outputs": [
    {
     "name": "stdout",
     "output_type": "stream",
     "text": [
      "Help on module class_webscrapping:\n",
      "\n",
      "NAME\n",
      "    class_webscrapping\n",
      "\n",
      "CLASSES\n",
      "    builtins.object\n",
      "        WebScraper\n",
      "    \n",
      "    class WebScraper(builtins.object)\n",
      "     |  WebScraper(base_url)\n",
      "     |  \n",
      "     |  Methods defined here:\n",
      "     |  \n",
      "     |  __init__(self, base_url)\n",
      "     |      Initialize self.  See help(type(self)) for accurate signature.\n",
      "     |  \n",
      "     |  fetch_html(self, url)\n",
      "     |      Récupére le contenu HTML à partir d’une URL donnée.\n",
      "     |  \n",
      "     |  infos_avis(self, max_pages=None)\n",
      "     |      Scrape les informations des avis sur plusieurs pages.\n",
      "     |      Retourne un DataFrame avec les dates, notes et commentaires.\n",
      "     |  \n",
      "     |  infos_resto(self)\n",
      "     |      Scrape les informations d'un restaurant à partir de la page actuelle.\n",
      "     |      Retourne un DataFrame avec le nom, type de cuisine, fourchette de prix, adresse et note moyenne.\n",
      "     |  \n",
      "     |  ----------------------------------------------------------------------\n",
      "     |  Data descriptors defined here:\n",
      "     |  \n",
      "     |  __dict__\n",
      "     |      dictionary for instance variables\n",
      "     |  \n",
      "     |  __weakref__\n",
      "     |      list of weak references to the object\n",
      "\n",
      "FILE\n",
      "    d:\\github\\nlp-projet-sise\\src\\scraping\\class_webscrapping.py\n",
      "\n",
      "\n"
     ]
    }
   ],
   "source": [
    "help(class_webscrapping)"
   ]
  },
  {
   "cell_type": "code",
   "execution_count": 39,
   "metadata": {},
   "outputs": [],
   "source": [
    "scrapper = WebScraper(\"https://www.tripadvisor.fr/Restaurant_Review-g187265-d15114321-Reviews-L_affreux_Jojo-Lyon_Rhone_Auvergne_Rhone_Alpes.html\")\n"
   ]
  },
  {
   "cell_type": "code",
   "execution_count": 44,
   "metadata": {},
   "outputs": [
    {
     "data": {
      "text/html": [
       "<div>\n",
       "<style scoped>\n",
       "    .dataframe tbody tr th:only-of-type {\n",
       "        vertical-align: middle;\n",
       "    }\n",
       "\n",
       "    .dataframe tbody tr th {\n",
       "        vertical-align: top;\n",
       "    }\n",
       "\n",
       "    .dataframe thead th {\n",
       "        text-align: right;\n",
       "    }\n",
       "</style>\n",
       "<table border=\"1\" class=\"dataframe\">\n",
       "  <thead>\n",
       "    <tr style=\"text-align: right;\">\n",
       "      <th></th>\n",
       "      <th>Nom</th>\n",
       "      <th>Type_Cuisine</th>\n",
       "      <th>Fourchette_prix</th>\n",
       "      <th>Adresse</th>\n",
       "      <th>Note_moyenne</th>\n",
       "    </tr>\n",
       "  </thead>\n",
       "  <tbody>\n",
       "    <tr>\n",
       "      <th>0</th>\n",
       "      <td>L'affreux Jojo</td>\n",
       "      <td>Italienne, Méditerranéenne, Saine</td>\n",
       "      <td>9,00 €-15,00 €</td>\n",
       "      <td>61 Rue de la Part-Dieu, 69003 Lyon France</td>\n",
       "      <td>5,0</td>\n",
       "    </tr>\n",
       "  </tbody>\n",
       "</table>\n",
       "</div>"
      ],
      "text/plain": [
       "              Nom                       Type_Cuisine Fourchette_prix  \\\n",
       "0  L'affreux Jojo  Italienne, Méditerranéenne, Saine  9,00 €-15,00 €   \n",
       "\n",
       "                                     Adresse Note_moyenne  \n",
       "0  61 Rue de la Part-Dieu, 69003 Lyon France          5,0  "
      ]
     },
     "execution_count": 44,
     "metadata": {},
     "output_type": "execute_result"
    }
   ],
   "source": [
    "df_info = scrapper.infos_resto()\n",
    "df_info.head()"
   ]
  },
  {
   "cell_type": "code",
   "execution_count": 43,
   "metadata": {},
   "outputs": [
    {
     "data": {
      "text/html": [
       "<div>\n",
       "<style scoped>\n",
       "    .dataframe tbody tr th:only-of-type {\n",
       "        vertical-align: middle;\n",
       "    }\n",
       "\n",
       "    .dataframe tbody tr th {\n",
       "        vertical-align: top;\n",
       "    }\n",
       "\n",
       "    .dataframe thead th {\n",
       "        text-align: right;\n",
       "    }\n",
       "</style>\n",
       "<table border=\"1\" class=\"dataframe\">\n",
       "  <thead>\n",
       "    <tr style=\"text-align: right;\">\n",
       "      <th></th>\n",
       "      <th>Date</th>\n",
       "      <th>Notes</th>\n",
       "      <th>Commentaires</th>\n",
       "    </tr>\n",
       "  </thead>\n",
       "  <tbody>\n",
       "    <tr>\n",
       "      <th>0</th>\n",
       "      <td>déc. 2024</td>\n",
       "      <td>5,0</td>\n",
       "      <td>Conforme à nos attentes. Pâtes du jour, pizza ...</td>\n",
       "    </tr>\n",
       "    <tr>\n",
       "      <th>1</th>\n",
       "      <td>déc. 2024</td>\n",
       "      <td>5,0</td>\n",
       "      <td>Pizza’s au top, excellent moment, service, imp...</td>\n",
       "    </tr>\n",
       "    <tr>\n",
       "      <th>2</th>\n",
       "      <td>déc. 2024</td>\n",
       "      <td>5,0</td>\n",
       "      <td>Pizza excellente, bonne ambiance, très bon ser...</td>\n",
       "    </tr>\n",
       "    <tr>\n",
       "      <th>3</th>\n",
       "      <td>déc. 2024</td>\n",
       "      <td>5,0</td>\n",
       "      <td>C'est l'endroit parfait à Lyon pour manger une...</td>\n",
       "    </tr>\n",
       "    <tr>\n",
       "      <th>4</th>\n",
       "      <td>déc. 2024</td>\n",
       "      <td>5,0</td>\n",
       "      <td>Nous avons dégustés d’excellentes pizze.\\nUne ...</td>\n",
       "    </tr>\n",
       "  </tbody>\n",
       "</table>\n",
       "</div>"
      ],
      "text/plain": [
       "        Date Notes                                       Commentaires\n",
       "0  déc. 2024   5,0  Conforme à nos attentes. Pâtes du jour, pizza ...\n",
       "1  déc. 2024   5,0  Pizza’s au top, excellent moment, service, imp...\n",
       "2  déc. 2024   5,0  Pizza excellente, bonne ambiance, très bon ser...\n",
       "3  déc. 2024   5,0  C'est l'endroit parfait à Lyon pour manger une...\n",
       "4  déc. 2024   5,0  Nous avons dégustés d’excellentes pizze.\\nUne ..."
      ]
     },
     "execution_count": 43,
     "metadata": {},
     "output_type": "execute_result"
    }
   ],
   "source": [
    "df_avis = scrapper.infos_avis(1)\n",
    "df_avis.head()"
   ]
  },
  {
   "cell_type": "markdown",
   "metadata": {},
   "source": [
    "### Test géolacalisation\n"
   ]
  },
  {
   "cell_type": "code",
   "execution_count": 52,
   "metadata": {},
   "outputs": [
    {
     "name": "stdout",
     "output_type": "stream",
     "text": [
      "Help on function find_coord in module address_to_coord:\n",
      "\n",
      "find_coord(address: str) -> list\n",
      "\n",
      "[45.7596229, 4.8469705]\n"
     ]
    }
   ],
   "source": [
    "help(find_coord)\n",
    "# coord_jojo = find_coord(\"L'affreux Jojo, Lyon\") [45.7596456, 4.8470318]\n",
    "coord_jojo = find_coord(df_info[\"Adresse\"][0]) # [45.7596229, 4.8469705]\n",
    "print(coord_jojo)\n"
   ]
  },
  {
   "cell_type": "code",
   "execution_count": null,
   "metadata": {},
   "outputs": [
    {
     "name": "stdout",
     "output_type": "stream",
     "text": [
      "None\n"
     ]
    }
   ],
   "source": [
    "coord_test = find_coord(\"40 Quai De La Plage 69660 Collonges-au-Mont-d'Or France\")\n",
    "print(coord_test)"
   ]
  },
  {
   "cell_type": "code",
   "execution_count": null,
   "metadata": {},
   "outputs": [],
   "source": []
  }
 ],
 "metadata": {
  "kernelspec": {
   "display_name": "ProjetNLP",
   "language": "python",
   "name": "python3"
  },
  "language_info": {
   "codemirror_mode": {
    "name": "ipython",
    "version": 3
   },
   "file_extension": ".py",
   "mimetype": "text/x-python",
   "name": "python",
   "nbconvert_exporter": "python",
   "pygments_lexer": "ipython3",
   "version": "3.11.11"
  }
 },
 "nbformat": 4,
 "nbformat_minor": 2
}
