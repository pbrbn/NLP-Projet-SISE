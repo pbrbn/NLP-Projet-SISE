{
 "cells": [
  {
   "cell_type": "code",
   "execution_count": 1,
   "metadata": {},
   "outputs": [],
   "source": [
    "import sys\n",
    "\n",
    "sys.path.insert(1, '../src/scraping')\n",
    "\n",
    "from class_webscrapping import WebScraper\n",
    "from address_to_coord import find_coord"
   ]
  },
  {
   "cell_type": "code",
   "execution_count": 2,
   "metadata": {},
   "outputs": [],
   "source": [
    "#!pip install geopy"
   ]
  },
  {
   "cell_type": "code",
   "execution_count": 3,
   "metadata": {},
   "outputs": [],
   "source": [
    "# help(scrap_description)\n"
   ]
  },
  {
   "cell_type": "code",
   "execution_count": null,
   "metadata": {},
   "outputs": [],
   "source": []
  },
  {
   "cell_type": "code",
   "execution_count": 4,
   "metadata": {},
   "outputs": [
    {
     "name": "stdout",
     "output_type": "stream",
     "text": [
      "Help on class WebScraper in module class_webscrapping:\n",
      "\n",
      "class WebScraper(builtins.object)\n",
      " |  WebScraper(base_url)\n",
      " |  \n",
      " |  Methods defined here:\n",
      " |  \n",
      " |  __init__(self, base_url)\n",
      " |      Initialize self.  See help(type(self)) for accurate signature.\n",
      " |  \n",
      " |  scrape_description_resto(self)\n",
      " |      Scrape la description d'un restaurant à partir de la page principale.\n",
      " |      Retourne un dataframe pandas contenant le nom du restaurant et sa description.\n",
      " |  \n",
      " |  scrape_infos_avis(self, max_pages=None)\n",
      " |      Scrape les informations des avis sur plusieurs pages.\n",
      " |      Retourne un DataFrame avec les dates, notes et commentaires.\n",
      " |  \n",
      " |  scrape_infos_resto(self, max_retries=3)\n",
      " |      Permet de relancer la fonction infos_resto tant qu'elle ne sort pas le résultat attendu\n",
      " |  \n",
      " |  ----------------------------------------------------------------------\n",
      " |  Data descriptors defined here:\n",
      " |  \n",
      " |  __dict__\n",
      " |      dictionary for instance variables\n",
      " |  \n",
      " |  __weakref__\n",
      " |      list of weak references to the object\n",
      "\n"
     ]
    }
   ],
   "source": [
    "help(WebScraper)"
   ]
  },
  {
   "cell_type": "code",
   "execution_count": 5,
   "metadata": {},
   "outputs": [],
   "source": [
    "scrapper = WebScraper(\"https://www.tripadvisor.fr/Restaurant_Review-g187265-d20287839-Reviews-Agastache_Restaurant-Lyon_Rhone_Auvergne_Rhone_Alpes.html\")"
   ]
  },
  {
   "cell_type": "code",
   "execution_count": 6,
   "metadata": {},
   "outputs": [
    {
     "name": "stdout",
     "output_type": "stream",
     "text": [
      "Erreur détectée : All arrays must be of the same length. Nouvelle tentative (1/3)...\n"
     ]
    },
    {
     "data": {
      "text/html": [
       "<div>\n",
       "<style scoped>\n",
       "    .dataframe tbody tr th:only-of-type {\n",
       "        vertical-align: middle;\n",
       "    }\n",
       "\n",
       "    .dataframe tbody tr th {\n",
       "        vertical-align: top;\n",
       "    }\n",
       "\n",
       "    .dataframe thead th {\n",
       "        text-align: right;\n",
       "    }\n",
       "</style>\n",
       "<table border=\"1\" class=\"dataframe\">\n",
       "  <thead>\n",
       "    <tr style=\"text-align: right;\">\n",
       "      <th></th>\n",
       "      <th>Nom</th>\n",
       "      <th>Type_Cuisine</th>\n",
       "      <th>Fourchette_prix</th>\n",
       "      <th>Adresse</th>\n",
       "      <th>Note_moyenne</th>\n",
       "    </tr>\n",
       "  </thead>\n",
       "  <tbody>\n",
       "    <tr>\n",
       "      <th>0</th>\n",
       "      <td>Agastache Restaurant</td>\n",
       "      <td>Française, Moderne, Saine</td>\n",
       "      <td>25,00 €-42,00 €</td>\n",
       "      <td>134 Rue Duguesclin, 69006 Lyon France</td>\n",
       "      <td>5,0</td>\n",
       "    </tr>\n",
       "  </tbody>\n",
       "</table>\n",
       "</div>"
      ],
      "text/plain": [
       "                    Nom               Type_Cuisine  Fourchette_prix  \\\n",
       "0  Agastache Restaurant  Française, Moderne, Saine  25,00 €-42,00 €   \n",
       "\n",
       "                                 Adresse Note_moyenne  \n",
       "0  134 Rue Duguesclin, 69006 Lyon France          5,0  "
      ]
     },
     "execution_count": 6,
     "metadata": {},
     "output_type": "execute_result"
    }
   ],
   "source": [
    "df_info = scrapper.scrape_infos_resto()\n",
    "df_info.head()"
   ]
  },
  {
   "cell_type": "code",
   "execution_count": 7,
   "metadata": {},
   "outputs": [
    {
     "data": {
      "text/html": [
       "<div>\n",
       "<style scoped>\n",
       "    .dataframe tbody tr th:only-of-type {\n",
       "        vertical-align: middle;\n",
       "    }\n",
       "\n",
       "    .dataframe tbody tr th {\n",
       "        vertical-align: top;\n",
       "    }\n",
       "\n",
       "    .dataframe thead th {\n",
       "        text-align: right;\n",
       "    }\n",
       "</style>\n",
       "<table border=\"1\" class=\"dataframe\">\n",
       "  <thead>\n",
       "    <tr style=\"text-align: right;\">\n",
       "      <th></th>\n",
       "      <th>Date</th>\n",
       "      <th>Notes</th>\n",
       "      <th>Commentaires</th>\n",
       "    </tr>\n",
       "  </thead>\n",
       "  <tbody>\n",
       "    <tr>\n",
       "      <th>0</th>\n",
       "      <td>déc. 2024</td>\n",
       "      <td>5,0</td>\n",
       "      <td>Un très bon accueil, des plats à tomber par te...</td>\n",
       "    </tr>\n",
       "    <tr>\n",
       "      <th>1</th>\n",
       "      <td>nov. 2024</td>\n",
       "      <td>5,0</td>\n",
       "      <td>menu à 35€ comprenant entrée, plat, dessert 2 ...</td>\n",
       "    </tr>\n",
       "    <tr>\n",
       "      <th>2</th>\n",
       "      <td>nov. 2024</td>\n",
       "      <td>5,0</td>\n",
       "      <td>La carte est très courte et  les plats sont tr...</td>\n",
       "    </tr>\n",
       "    <tr>\n",
       "      <th>3</th>\n",
       "      <td>nov. 2024</td>\n",
       "      <td>5,0</td>\n",
       "      <td>Toujours autant de saveurs,de surprises…de déc...</td>\n",
       "    </tr>\n",
       "    <tr>\n",
       "      <th>4</th>\n",
       "      <td>nov. 2024</td>\n",
       "      <td>5,0</td>\n",
       "      <td>Une très belle adresse pour ravir les papilles...</td>\n",
       "    </tr>\n",
       "  </tbody>\n",
       "</table>\n",
       "</div>"
      ],
      "text/plain": [
       "        Date Notes                                       Commentaires\n",
       "0  déc. 2024   5,0  Un très bon accueil, des plats à tomber par te...\n",
       "1  nov. 2024   5,0  menu à 35€ comprenant entrée, plat, dessert 2 ...\n",
       "2  nov. 2024   5,0  La carte est très courte et  les plats sont tr...\n",
       "3  nov. 2024   5,0  Toujours autant de saveurs,de surprises…de déc...\n",
       "4  nov. 2024   5,0  Une très belle adresse pour ravir les papilles..."
      ]
     },
     "execution_count": 7,
     "metadata": {},
     "output_type": "execute_result"
    }
   ],
   "source": [
    "df_avis = scrapper.scrape_infos_avis(1)\n",
    "df_avis.head()"
   ]
  },
  {
   "cell_type": "markdown",
   "metadata": {},
   "source": [
    "#### Test Description\n"
   ]
  },
  {
   "cell_type": "code",
   "execution_count": 8,
   "metadata": {},
   "outputs": [
    {
     "ename": "TypeError",
     "evalue": "'NoneType' object is not iterable",
     "output_type": "error",
     "traceback": [
      "\u001b[1;31m---------------------------------------------------------------------------\u001b[0m",
      "\u001b[1;31mTypeError\u001b[0m                                 Traceback (most recent call last)",
      "Cell \u001b[1;32mIn[8], line 1\u001b[0m\n\u001b[1;32m----> 1\u001b[0m \u001b[43mscrapper\u001b[49m\u001b[38;5;241;43m.\u001b[39;49m\u001b[43mscrape_description_resto\u001b[49m\u001b[43m(\u001b[49m\u001b[43m)\u001b[49m\n",
      "File \u001b[1;32md:\\GitHub\\NLP-Projet-SISE\\notebooks\\../src/scraping\\class_webscrapping.py:219\u001b[0m, in \u001b[0;36mWebScraper.scrape_description_resto\u001b[1;34m(self)\u001b[0m\n\u001b[0;32m    216\u001b[0m     borne_nom \u001b[38;5;241m=\u001b[39m soup\u001b[38;5;241m.\u001b[39mfind(\u001b[38;5;124m'\u001b[39m\u001b[38;5;124mh1\u001b[39m\u001b[38;5;124m'\u001b[39m, {\u001b[38;5;124m'\u001b[39m\u001b[38;5;124mclass\u001b[39m\u001b[38;5;124m'\u001b[39m : \u001b[38;5;124m'\u001b[39m\u001b[38;5;124mbiGQs _P hzzSG rRtyp\u001b[39m\u001b[38;5;124m'\u001b[39m})\n\u001b[0;32m    218\u001b[0m     \u001b[38;5;66;03m#Récupère le nom du resto\u001b[39;00m\n\u001b[1;32m--> 219\u001b[0m \u001b[43m    \u001b[49m\u001b[38;5;28;43;01mfor\u001b[39;49;00m\u001b[43m \u001b[49m\u001b[43mnom\u001b[49m\u001b[43m \u001b[49m\u001b[38;5;129;43;01min\u001b[39;49;00m\u001b[43m \u001b[49m\u001b[43mborne_nom\u001b[49m\u001b[43m \u001b[49m\u001b[43m:\u001b[49m\n\u001b[0;32m    220\u001b[0m \u001b[43m        \u001b[49m\u001b[43mnom_resto\u001b[49m\u001b[38;5;241;43m.\u001b[39;49m\u001b[43mappend\u001b[49m\u001b[43m(\u001b[49m\u001b[43mnom\u001b[49m\u001b[38;5;241;43m.\u001b[39;49m\u001b[43mtext\u001b[49m\u001b[43m)\u001b[49m\n\u001b[0;32m    223\u001b[0m \u001b[38;5;66;03m##### DESCRIPTION #####\u001b[39;00m\n\u001b[0;32m    224\u001b[0m \u001b[38;5;66;03m# #Trouver le parent\u001b[39;00m\n",
      "\u001b[1;31mTypeError\u001b[0m: 'NoneType' object is not iterable"
     ]
    }
   ],
   "source": [
    "scrapper.scrape_description_resto()\n"
   ]
  },
  {
   "cell_type": "markdown",
   "metadata": {},
   "source": [
    "### Test géolacalisation\n"
   ]
  },
  {
   "cell_type": "code",
   "execution_count": 61,
   "metadata": {},
   "outputs": [
    {
     "name": "stdout",
     "output_type": "stream",
     "text": [
      "Help on function find_coord in module address_to_coord:\n",
      "\n",
      "find_coord(address: str) -> list\n",
      "\n",
      "[45.7596229, 4.8469705]\n"
     ]
    }
   ],
   "source": [
    "help(find_coord)\n",
    "# coord_jojo = find_coord(\"L'affreux Jojo, Lyon\") [45.7596456, 4.8470318]\n",
    "coord_jojo = find_coord(df_info[\"Adresse\"][0]) # [45.7596229, 4.8469705]\n",
    "print(coord_jojo)\n"
   ]
  },
  {
   "cell_type": "code",
   "execution_count": 71,
   "metadata": {},
   "outputs": [
    {
     "name": "stdout",
     "output_type": "stream",
     "text": [
      "[45.8156303, 4.8475323]\n"
     ]
    }
   ],
   "source": [
    "coord_test = find_coord(\"Restaurant Paul Bocuse, Lyon\") # [45.7596456, 4.8470318]\n",
    "print(coord_test)"
   ]
  },
  {
   "cell_type": "code",
   "execution_count": null,
   "metadata": {},
   "outputs": [],
   "source": []
  }
 ],
 "metadata": {
  "kernelspec": {
   "display_name": "ProjetNLP",
   "language": "python",
   "name": "python3"
  },
  "language_info": {
   "codemirror_mode": {
    "name": "ipython",
    "version": 3
   },
   "file_extension": ".py",
   "mimetype": "text/x-python",
   "name": "python",
   "nbconvert_exporter": "python",
   "pygments_lexer": "ipython3",
   "version": "3.11.11"
  }
 },
 "nbformat": 4,
 "nbformat_minor": 2
}
