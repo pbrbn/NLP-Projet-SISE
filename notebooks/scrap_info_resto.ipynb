{
 "cells": [
  {
   "cell_type": "code",
   "execution_count": null,
   "metadata": {},
   "outputs": [
    {
     "name": "stderr",
     "output_type": "stream",
     "text": [
      "/Users/pierrebourbon/Documents/PRO/Data/Master_SISE/NLP/ProjetNLP/projetnlp/lib/python3.9/site-packages/urllib3/__init__.py:35: NotOpenSSLWarning: urllib3 v2 only supports OpenSSL 1.1.1+, currently the 'ssl' module is compiled with 'LibreSSL 2.8.3'. See: https://github.com/urllib3/urllib3/issues/3020\n",
      "  warnings.warn(\n"
     ]
    }
   ],
   "source": [
    "import requests\n",
    "from bs4 import BeautifulSoup\n",
    "import pandas as pd"
   ]
  },
  {
   "cell_type": "code",
   "execution_count": null,
   "metadata": {},
   "outputs": [],
   "source": [
    "def infos_resto(url : str) -> pd.DataFrame : \n",
    "    '''\n",
    "    Scrape les informations d'un restaurant à partir d'une URL de base.\n",
    "    Arguments : \n",
    "        - url : une URL de la page web contenant les avis.\n",
    "    \n",
    "    Retourne : \n",
    "        - Un data frame pandas contenant : \n",
    "            - Nom\n",
    "            - Type de cuisine \n",
    "            - Fourchette de prix\n",
    "            - Adresse \n",
    "            - Note moyenne\n",
    "    '''\n",
    "\n",
    "    #Ajouter un en-tête User-Agent pour simuler un navigateur\n",
    "    headers = {\n",
    "        \"User-Agent\": \"Mozilla/5.0 (Windows NT 10.0; Win64; x64; rv:98.0) Gecko/20100101 Firefox/98.0\",\n",
    "        \"Accept\": \"text/html,application/xhtml+xml,application/xml;q=0.9,image/avif,image/webp,*/*;q=0.8\",\n",
    "        \"Accept-Language\": \"en-US,en;q=0.5\",\n",
    "        \"Accept-Encoding\": \"gzip, deflate\",\n",
    "        \"Connection\": \"keep-alive\",\n",
    "        \"Upgrade-Insecure-Requests\": \"1\",\n",
    "        \"Sec-Fetch-Dest\": \"document\",\n",
    "        \"Sec-Fetch-Mode\": \"navigate\",\n",
    "        \"Sec-Fetch-Site\": \"none\",\n",
    "        \"Sec-Fetch-User\": \"?1\",\n",
    "        \"Cache-Control\": \"max-age=0\",\n",
    "    }\n",
    "\n",
    "    #Initialisation \n",
    "    nom_resto = []\n",
    "    type_c = []\n",
    "    adresse_resto = []\n",
    "    note_resto = []\n",
    "    fourchette_resto = []\n",
    "\n",
    "    #Récupère le contenu HTML de la page concernée\n",
    "    response = requests.get(url, headers = headers)\n",
    "    if response.status_code != 200:\n",
    "        raise Exception(f\"Échec de la récupération du contenu, code de statut : {response.status_code}\")\n",
    "\n",
    "    #Parser avec BS4\n",
    "    fullcorpus = response.text\n",
    "    soup = BeautifulSoup(fullcorpus, \"html.parser\")\n",
    "\n",
    "    ##### NOM DU RESTAURANT ######\n",
    "    borne_nom = soup.find_all('h1', {'class' : 'biGQs _P egaXP rRtyp'})\n",
    "    for nom in borne_nom :\n",
    "        nom_resto.append(nom.text)\n",
    "    \n",
    "\n",
    "    ###### TYPE DE CUISINE ######\n",
    "    borne_tc = soup.find_all('div', {'class' : 'biGQs _P pZUbB alXOW oCpZu GzNcM nvOhm UTQMg ZTpaU W hmDzD'})\n",
    "    for tc in borne_tc[1] : #Uniquement le deuxième élément qui contient le type de cuisine\n",
    "        type_c.append(tc.text)\n",
    "\n",
    "    \n",
    "    ##### FOURCHETTE DE PRIX #####\n",
    "    borne_four = soup.find('div', {'class' : 'biGQs _P pZUbB alXOW oCpZu GzNcM nvOhm UTQMg ZTpaU W hmDzD'})\n",
    "    for four in borne_four :\n",
    "        fourchette_resto.append(four.text)\n",
    "    \n",
    "    #Formatage\n",
    "    fourchette_resto = [four.replace('\\xa0', '') for four in fourchette_resto]\n",
    "\n",
    "\n",
    "    ##### ADRESSE #####\n",
    "    borne_adresse = soup.find_all('div', {'class' : 'akmhy e j'})\n",
    "    for adresse in borne_adresse[0]: #Uniquement le premier élément qui contient l'adresse\n",
    "        adresse_resto.append(adresse.text)\n",
    "\n",
    "    \n",
    "    ##### NOTe MOYENNE #####\n",
    "    borne_note = soup.find_all('div', {'class' : 'sOyfn u f K'})\n",
    "    match = re.search(r\"(\\d+,\\d)\", borne_note[0].text)\n",
    "    note_resto = match.group(1)\n",
    "\n",
    "\n",
    "    #Stocke les résultats dans un dataframe\n",
    "    results = {\n",
    "        \"Nom\" : nom_resto,\n",
    "        \"Type_Cuisine\" : type_c,\n",
    "        \"Fourchette_prix\" : fourchette_resto,\n",
    "        \"Adresse\" : adresse_resto,\n",
    "        \"Note_moyenne\" : note_resto\n",
    "    }\n",
    "\n",
    "    df_results = pd.DataFrame(results)\n",
    "\n",
    "    return df_results\n"
   ]
  },
  {
   "cell_type": "code",
   "execution_count": 74,
   "metadata": {},
   "outputs": [],
   "source": [
    "test = infos_resto(\"https://www.tripadvisor.fr/Restaurant_Review-g187265-d695217-Reviews-or15-Brasserie_Georges-Lyon_Rhone_Auvergne_Rhone_Alpes.html\")"
   ]
  },
  {
   "cell_type": "code",
   "execution_count": 78,
   "metadata": {},
   "outputs": [],
   "source": [
    "test.to_csv(\"infos_resto.csv\")"
   ]
  },
  {
   "cell_type": "code",
   "execution_count": null,
   "metadata": {},
   "outputs": [],
   "source": [
    "<a aria-label=\"Site internet\" target=\"_blank\" href=\"https://frazarin.com/\" class=\"BMQDV _F Gv wSSLS SwZTJ FGwzt ukgoS\">…</a>"
   ]
  },
  {
   "cell_type": "code",
   "execution_count": null,
   "metadata": {},
   "outputs": [],
   "source": [
    "from selenium import webdriver #Webdriver de Selenium qui permet de contrôler un navigateur\n",
    "from selenium.webdriver.common.by import By #Permet d'accéder aux différents élements de la page web\n",
    "\n",
    "from webdriver_manager.chrome import ChromeDriverManager #Assure la gestion du webdriver de Chrome\n",
    "from selenium.webdriver.chrome.service import Service\n",
    "from selenium.webdriver.chrome.options import Options\n",
    "\n",
    "def resto_infos(url : str) -> pd.DataFrame :\n",
    "    \n",
    "    # Initialisation du service et du driver\n",
    "    chrome_options = Options()\n",
    "    chrome_options.add_argument(\"user-agent=Mozilla/5.0 (Windows NT 10.0; Win64; x64) AppleWebKit/537.36 (KHTML, like Gecko) Chrome/114.0.5735.199 Safari/537.36\")\n",
    "    \n",
    "    service = Service(ChromeDriverManager().install())\n",
    "\n",
    "    driver = webdriver.Chrome(service=service, options=chrome_options)\n",
    "\n",
    "    #Initialisation des listes\n",
    "    nom_resto = []\n",
    "    type_c = []\n",
    "    adresse_resto = []\n",
    "    note_resto = []\n",
    "    url_resto = []\n",
    "\n",
    "    time.sleep(1) #Ajout d'un temps de deux secondes avant de lancer l'action suivante\n",
    "\n",
    "    #Récupère el contenu HTML de la page\n",
    "    driver.get(url)\n",
    "\n",
    "    time.sleep(3) \n",
    "\n",
    "    ##### NOM DU RESTAURANT ######\n",
    "    nom_resto.append(driver.find_element(By.XPATH, \"/html/body/div[1]/main/div/div[3]/div/div[1]/h1\"))\n",
    "\n",
    "    # Pause aléatoire entre 3 et 7 secondes\n",
    "    time.sleep(random.uniform(3, 7))\n",
    "\n",
    "    return nom_resto"
   ]
  },
  {
   "cell_type": "code",
   "execution_count": 46,
   "metadata": {},
   "outputs": [
    {
     "ename": "NoSuchElementException",
     "evalue": "Message: no such element: Unable to locate element: {\"method\":\"xpath\",\"selector\":\"/html/body/div[1]/main/div/div[3]/div/div[1]/h1\"}\n  (Session info: chrome=131.0.6778.109); For documentation on this error, please visit: https://www.selenium.dev/documentation/webdriver/troubleshooting/errors#no-such-element-exception\nStacktrace:\n0   chromedriver                        0x0000000107b62e82 chromedriver + 6696578\n1   chromedriver                        0x0000000107b5ac9a chromedriver + 6663322\n2   chromedriver                        0x0000000107562e3e chromedriver + 405054\n3   chromedriver                        0x00000001075b3815 chromedriver + 735253\n4   chromedriver                        0x00000001075b3d11 chromedriver + 736529\n5   chromedriver                        0x00000001075fe314 chromedriver + 1041172\n6   chromedriver                        0x00000001075d889d chromedriver + 886941\n7   chromedriver                        0x00000001075fb3f4 chromedriver + 1029108\n8   chromedriver                        0x00000001075d8613 chromedriver + 886291\n9   chromedriver                        0x00000001075a5950 chromedriver + 678224\n10  chromedriver                        0x00000001075a634e chromedriver + 680782\n11  chromedriver                        0x0000000107b30770 chromedriver + 6489968\n12  chromedriver                        0x0000000107b33219 chromedriver + 6500889\n13  chromedriver                        0x0000000107b32d3b chromedriver + 6499643\n14  chromedriver                        0x0000000107b336a5 chromedriver + 6502053\n15  chromedriver                        0x0000000107b1b524 chromedriver + 6403364\n16  chromedriver                        0x0000000107b3398f chromedriver + 6502799\n17  chromedriver                        0x0000000107b0c954 chromedriver + 6342996\n18  chromedriver                        0x0000000107b4b378 chromedriver + 6599544\n19  chromedriver                        0x0000000107b4b535 chromedriver + 6599989\n20  chromedriver                        0x0000000107b5a868 chromedriver + 6662248\n21  libsystem_pthread.dylib             0x00007ff805a811d3 _pthread_start + 125\n22  libsystem_pthread.dylib             0x00007ff805a7cbd3 thread_start + 15\n",
     "output_type": "error",
     "traceback": [
      "\u001b[0;31m---------------------------------------------------------------------------\u001b[0m",
      "\u001b[0;31mNoSuchElementException\u001b[0m                    Traceback (most recent call last)",
      "Cell \u001b[0;32mIn[46], line 1\u001b[0m\n\u001b[0;32m----> 1\u001b[0m test \u001b[38;5;241m=\u001b[39m \u001b[43mresto_infos\u001b[49m\u001b[43m(\u001b[49m\u001b[38;5;124;43m\"\u001b[39;49m\u001b[38;5;124;43mhttps://www.tripadvisor.fr/Restaurant_Review-g187265-d23110895-Reviews-Frazarin-Lyon_Rhone_Auvergne_Rhone_Alpes.html\u001b[39;49m\u001b[38;5;124;43m\"\u001b[39;49m\u001b[43m)\u001b[49m\n\u001b[1;32m      2\u001b[0m \u001b[38;5;28mprint\u001b[39m(test)\n",
      "Cell \u001b[0;32mIn[45], line 33\u001b[0m, in \u001b[0;36mresto_infos\u001b[0;34m(url)\u001b[0m\n\u001b[1;32m     30\u001b[0m time\u001b[38;5;241m.\u001b[39msleep(\u001b[38;5;241m3\u001b[39m) \n\u001b[1;32m     32\u001b[0m \u001b[38;5;66;03m##### NOM DU RESTAURANT ######\u001b[39;00m\n\u001b[0;32m---> 33\u001b[0m nom_resto\u001b[38;5;241m.\u001b[39mappend(\u001b[43mdriver\u001b[49m\u001b[38;5;241;43m.\u001b[39;49m\u001b[43mfind_element\u001b[49m\u001b[43m(\u001b[49m\u001b[43mBy\u001b[49m\u001b[38;5;241;43m.\u001b[39;49m\u001b[43mXPATH\u001b[49m\u001b[43m,\u001b[49m\u001b[43m \u001b[49m\u001b[38;5;124;43m\"\u001b[39;49m\u001b[38;5;124;43m/html/body/div[1]/main/div/div[3]/div/div[1]/h1\u001b[39;49m\u001b[38;5;124;43m\"\u001b[39;49m\u001b[43m)\u001b[49m)\n\u001b[1;32m     35\u001b[0m \u001b[38;5;66;03m# Pause aléatoire entre 3 et 7 secondes\u001b[39;00m\n\u001b[1;32m     36\u001b[0m time\u001b[38;5;241m.\u001b[39msleep(random\u001b[38;5;241m.\u001b[39muniform(\u001b[38;5;241m3\u001b[39m, \u001b[38;5;241m7\u001b[39m))\n",
      "File \u001b[0;32m~/Documents/PRO/Data/Master_SISE/NLP/ProjetNLP/projetnlp/lib/python3.9/site-packages/selenium/webdriver/remote/webdriver.py:770\u001b[0m, in \u001b[0;36mWebDriver.find_element\u001b[0;34m(self, by, value)\u001b[0m\n\u001b[1;32m    767\u001b[0m         \u001b[38;5;28;01mraise\u001b[39;00m NoSuchElementException(\u001b[38;5;124mf\u001b[39m\u001b[38;5;124m\"\u001b[39m\u001b[38;5;124mCannot locate relative element with: \u001b[39m\u001b[38;5;132;01m{\u001b[39;00mby\u001b[38;5;241m.\u001b[39mroot\u001b[38;5;132;01m}\u001b[39;00m\u001b[38;5;124m\"\u001b[39m)\n\u001b[1;32m    768\u001b[0m     \u001b[38;5;28;01mreturn\u001b[39;00m elements[\u001b[38;5;241m0\u001b[39m]\n\u001b[0;32m--> 770\u001b[0m \u001b[38;5;28;01mreturn\u001b[39;00m \u001b[38;5;28;43mself\u001b[39;49m\u001b[38;5;241;43m.\u001b[39;49m\u001b[43mexecute\u001b[49m\u001b[43m(\u001b[49m\u001b[43mCommand\u001b[49m\u001b[38;5;241;43m.\u001b[39;49m\u001b[43mFIND_ELEMENT\u001b[49m\u001b[43m,\u001b[49m\u001b[43m \u001b[49m\u001b[43m{\u001b[49m\u001b[38;5;124;43m\"\u001b[39;49m\u001b[38;5;124;43musing\u001b[39;49m\u001b[38;5;124;43m\"\u001b[39;49m\u001b[43m:\u001b[49m\u001b[43m \u001b[49m\u001b[43mby\u001b[49m\u001b[43m,\u001b[49m\u001b[43m \u001b[49m\u001b[38;5;124;43m\"\u001b[39;49m\u001b[38;5;124;43mvalue\u001b[39;49m\u001b[38;5;124;43m\"\u001b[39;49m\u001b[43m:\u001b[49m\u001b[43m \u001b[49m\u001b[43mvalue\u001b[49m\u001b[43m}\u001b[49m\u001b[43m)\u001b[49m[\u001b[38;5;124m\"\u001b[39m\u001b[38;5;124mvalue\u001b[39m\u001b[38;5;124m\"\u001b[39m]\n",
      "File \u001b[0;32m~/Documents/PRO/Data/Master_SISE/NLP/ProjetNLP/projetnlp/lib/python3.9/site-packages/selenium/webdriver/remote/webdriver.py:384\u001b[0m, in \u001b[0;36mWebDriver.execute\u001b[0;34m(self, driver_command, params)\u001b[0m\n\u001b[1;32m    382\u001b[0m response \u001b[38;5;241m=\u001b[39m \u001b[38;5;28mself\u001b[39m\u001b[38;5;241m.\u001b[39mcommand_executor\u001b[38;5;241m.\u001b[39mexecute(driver_command, params)\n\u001b[1;32m    383\u001b[0m \u001b[38;5;28;01mif\u001b[39;00m response:\n\u001b[0;32m--> 384\u001b[0m     \u001b[38;5;28;43mself\u001b[39;49m\u001b[38;5;241;43m.\u001b[39;49m\u001b[43merror_handler\u001b[49m\u001b[38;5;241;43m.\u001b[39;49m\u001b[43mcheck_response\u001b[49m\u001b[43m(\u001b[49m\u001b[43mresponse\u001b[49m\u001b[43m)\u001b[49m\n\u001b[1;32m    385\u001b[0m     response[\u001b[38;5;124m\"\u001b[39m\u001b[38;5;124mvalue\u001b[39m\u001b[38;5;124m\"\u001b[39m] \u001b[38;5;241m=\u001b[39m \u001b[38;5;28mself\u001b[39m\u001b[38;5;241m.\u001b[39m_unwrap_value(response\u001b[38;5;241m.\u001b[39mget(\u001b[38;5;124m\"\u001b[39m\u001b[38;5;124mvalue\u001b[39m\u001b[38;5;124m\"\u001b[39m, \u001b[38;5;28;01mNone\u001b[39;00m))\n\u001b[1;32m    386\u001b[0m     \u001b[38;5;28;01mreturn\u001b[39;00m response\n",
      "File \u001b[0;32m~/Documents/PRO/Data/Master_SISE/NLP/ProjetNLP/projetnlp/lib/python3.9/site-packages/selenium/webdriver/remote/errorhandler.py:232\u001b[0m, in \u001b[0;36mErrorHandler.check_response\u001b[0;34m(self, response)\u001b[0m\n\u001b[1;32m    230\u001b[0m         alert_text \u001b[38;5;241m=\u001b[39m value[\u001b[38;5;124m\"\u001b[39m\u001b[38;5;124malert\u001b[39m\u001b[38;5;124m\"\u001b[39m]\u001b[38;5;241m.\u001b[39mget(\u001b[38;5;124m\"\u001b[39m\u001b[38;5;124mtext\u001b[39m\u001b[38;5;124m\"\u001b[39m)\n\u001b[1;32m    231\u001b[0m     \u001b[38;5;28;01mraise\u001b[39;00m exception_class(message, screen, stacktrace, alert_text)  \u001b[38;5;66;03m# type: ignore[call-arg]  # mypy is not smart enough here\u001b[39;00m\n\u001b[0;32m--> 232\u001b[0m \u001b[38;5;28;01mraise\u001b[39;00m exception_class(message, screen, stacktrace)\n",
      "\u001b[0;31mNoSuchElementException\u001b[0m: Message: no such element: Unable to locate element: {\"method\":\"xpath\",\"selector\":\"/html/body/div[1]/main/div/div[3]/div/div[1]/h1\"}\n  (Session info: chrome=131.0.6778.109); For documentation on this error, please visit: https://www.selenium.dev/documentation/webdriver/troubleshooting/errors#no-such-element-exception\nStacktrace:\n0   chromedriver                        0x0000000107b62e82 chromedriver + 6696578\n1   chromedriver                        0x0000000107b5ac9a chromedriver + 6663322\n2   chromedriver                        0x0000000107562e3e chromedriver + 405054\n3   chromedriver                        0x00000001075b3815 chromedriver + 735253\n4   chromedriver                        0x00000001075b3d11 chromedriver + 736529\n5   chromedriver                        0x00000001075fe314 chromedriver + 1041172\n6   chromedriver                        0x00000001075d889d chromedriver + 886941\n7   chromedriver                        0x00000001075fb3f4 chromedriver + 1029108\n8   chromedriver                        0x00000001075d8613 chromedriver + 886291\n9   chromedriver                        0x00000001075a5950 chromedriver + 678224\n10  chromedriver                        0x00000001075a634e chromedriver + 680782\n11  chromedriver                        0x0000000107b30770 chromedriver + 6489968\n12  chromedriver                        0x0000000107b33219 chromedriver + 6500889\n13  chromedriver                        0x0000000107b32d3b chromedriver + 6499643\n14  chromedriver                        0x0000000107b336a5 chromedriver + 6502053\n15  chromedriver                        0x0000000107b1b524 chromedriver + 6403364\n16  chromedriver                        0x0000000107b3398f chromedriver + 6502799\n17  chromedriver                        0x0000000107b0c954 chromedriver + 6342996\n18  chromedriver                        0x0000000107b4b378 chromedriver + 6599544\n19  chromedriver                        0x0000000107b4b535 chromedriver + 6599989\n20  chromedriver                        0x0000000107b5a868 chromedriver + 6662248\n21  libsystem_pthread.dylib             0x00007ff805a811d3 _pthread_start + 125\n22  libsystem_pthread.dylib             0x00007ff805a7cbd3 thread_start + 15\n"
     ]
    }
   ],
   "source": [
    "test = resto_infos(\"https://www.tripadvisor.fr/Restaurant_Review-g187265-d23110895-Reviews-Frazarin-Lyon_Rhone_Auvergne_Rhone_Alpes.html\")\n",
    "print(test)"
   ]
  }
 ],
 "metadata": {
  "kernelspec": {
   "display_name": "projetnlp",
   "language": "python",
   "name": "python3"
  },
  "language_info": {
   "codemirror_mode": {
    "name": "ipython",
    "version": 3
   },
   "file_extension": ".py",
   "mimetype": "text/x-python",
   "name": "python",
   "nbconvert_exporter": "python",
   "pygments_lexer": "ipython3",
   "version": "3.9.6"
  }
 },
 "nbformat": 4,
 "nbformat_minor": 2
}
