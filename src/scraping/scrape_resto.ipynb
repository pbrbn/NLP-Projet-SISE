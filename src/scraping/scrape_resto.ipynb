{
 "cells": [
  {
   "cell_type": "code",
   "execution_count": 6,
   "metadata": {},
   "outputs": [],
   "source": [
    "from restaurant_scraper import RestaurantScraper\n",
    "from find_url import find_url_restaurant"
   ]
  },
  {
   "cell_type": "markdown",
   "metadata": {},
   "source": [
    "# Scrapper les restaurants"
   ]
  },
  {
   "cell_type": "code",
   "execution_count": 7,
   "metadata": {},
   "outputs": [],
   "source": [
    "test = find_url_restaurant(\"Gueuleton\")"
   ]
  },
  {
   "cell_type": "code",
   "execution_count": 8,
   "metadata": {},
   "outputs": [],
   "source": [
    "scraper = RestaurantScraper(test)"
   ]
  },
  {
   "cell_type": "code",
   "execution_count": 9,
   "metadata": {},
   "outputs": [
    {
     "name": "stdout",
     "output_type": "stream",
     "text": [
      "Erreur détectée : Échec de la récupération du contenu, code de statut : 403. Nouvelle tentative (1/10)...\n",
      "Erreur détectée : All arrays must be of the same length. Nouvelle tentative (2/10)...\n",
      "Erreur détectée : All arrays must be of the same length. Nouvelle tentative (3/10)...\n",
      "Erreur détectée : Échec de la récupération du contenu, code de statut : 403. Nouvelle tentative (4/10)...\n",
      "Erreur détectée : All arrays must be of the same length. Nouvelle tentative (5/10)...\n"
     ]
    }
   ],
   "source": [
    "infos_resto = scraper.scrape_infos_resto()\n",
    "infos_avis = scraper.scrape_infos_avis()\n",
    "description_resto = scraper.scrape_description_resto()"
   ]
  },
  {
   "cell_type": "code",
   "execution_count": 10,
   "metadata": {},
   "outputs": [
    {
     "data": {
      "text/html": [
       "<div>\n",
       "<style scoped>\n",
       "    .dataframe tbody tr th:only-of-type {\n",
       "        vertical-align: middle;\n",
       "    }\n",
       "\n",
       "    .dataframe tbody tr th {\n",
       "        vertical-align: top;\n",
       "    }\n",
       "\n",
       "    .dataframe thead th {\n",
       "        text-align: right;\n",
       "    }\n",
       "</style>\n",
       "<table border=\"1\" class=\"dataframe\">\n",
       "  <thead>\n",
       "    <tr style=\"text-align: right;\">\n",
       "      <th></th>\n",
       "      <th>Date</th>\n",
       "      <th>Notes</th>\n",
       "      <th>Commentaires</th>\n",
       "    </tr>\n",
       "  </thead>\n",
       "  <tbody>\n",
       "    <tr>\n",
       "      <th>0</th>\n",
       "      <td>nov. 2024</td>\n",
       "      <td>3,0</td>\n",
       "      <td>. Viande cuisson mal exécuter...\\n. Prix norma...</td>\n",
       "    </tr>\n",
       "    <tr>\n",
       "      <th>1</th>\n",
       "      <td>nov. 2024</td>\n",
       "      <td>5,0</td>\n",
       "      <td>Viandes d’excellente qualité, service parfait,...</td>\n",
       "    </tr>\n",
       "    <tr>\n",
       "      <th>2</th>\n",
       "      <td>nov. 2024</td>\n",
       "      <td>2,0</td>\n",
       "      <td>Sympa… mais beaucoup trop cher…c’est dommage c...</td>\n",
       "    </tr>\n",
       "    <tr>\n",
       "      <th>3</th>\n",
       "      <td>nov. 2024</td>\n",
       "      <td>1,0</td>\n",
       "      <td>Du VOL tout simplement. \\n\\nUn gueuleton c’est...</td>\n",
       "    </tr>\n",
       "    <tr>\n",
       "      <th>4</th>\n",
       "      <td>nov. 2024</td>\n",
       "      <td>3,0</td>\n",
       "      <td>Bonne soirée en globalité mais le manque de tr...</td>\n",
       "    </tr>\n",
       "  </tbody>\n",
       "</table>\n",
       "</div>"
      ],
      "text/plain": [
       "        Date Notes                                       Commentaires\n",
       "0  nov. 2024   3,0  . Viande cuisson mal exécuter...\\n. Prix norma...\n",
       "1  nov. 2024   5,0  Viandes d’excellente qualité, service parfait,...\n",
       "2  nov. 2024   2,0  Sympa… mais beaucoup trop cher…c’est dommage c...\n",
       "3  nov. 2024   1,0  Du VOL tout simplement. \\n\\nUn gueuleton c’est...\n",
       "4  nov. 2024   3,0  Bonne soirée en globalité mais le manque de tr..."
      ]
     },
     "execution_count": 10,
     "metadata": {},
     "output_type": "execute_result"
    }
   ],
   "source": [
    "infos_avis.head()"
   ]
  },
  {
   "cell_type": "code",
   "execution_count": 11,
   "metadata": {},
   "outputs": [
    {
     "data": {
      "text/html": [
       "<div>\n",
       "<style scoped>\n",
       "    .dataframe tbody tr th:only-of-type {\n",
       "        vertical-align: middle;\n",
       "    }\n",
       "\n",
       "    .dataframe tbody tr th {\n",
       "        vertical-align: top;\n",
       "    }\n",
       "\n",
       "    .dataframe thead th {\n",
       "        text-align: right;\n",
       "    }\n",
       "</style>\n",
       "<table border=\"1\" class=\"dataframe\">\n",
       "  <thead>\n",
       "    <tr style=\"text-align: right;\">\n",
       "      <th></th>\n",
       "      <th>Nom</th>\n",
       "      <th>Type_Cuisine</th>\n",
       "      <th>Fourchette_prix</th>\n",
       "      <th>Adresse</th>\n",
       "      <th>Note_moyenne</th>\n",
       "    </tr>\n",
       "  </thead>\n",
       "  <tbody>\n",
       "    <tr>\n",
       "      <th>0</th>\n",
       "      <td>Gueuleton - Lyon</td>\n",
       "      <td>Française</td>\n",
       "      <td>NA</td>\n",
       "      <td>29 rue Moliere, 69006 Lyon France</td>\n",
       "      <td>3,5</td>\n",
       "    </tr>\n",
       "  </tbody>\n",
       "</table>\n",
       "</div>"
      ],
      "text/plain": [
       "                Nom Type_Cuisine Fourchette_prix  \\\n",
       "0  Gueuleton - Lyon    Française              NA   \n",
       "\n",
       "                             Adresse Note_moyenne  \n",
       "0  29 rue Moliere, 69006 Lyon France          3,5  "
      ]
     },
     "execution_count": 11,
     "metadata": {},
     "output_type": "execute_result"
    }
   ],
   "source": [
    "infos_resto.head()"
   ]
  },
  {
   "cell_type": "code",
   "execution_count": 40,
   "metadata": {},
   "outputs": [],
   "source": [
    "infos_resto.to_csv(\"8_marguerite_infos_resto.csv\")\n",
    "infos_avis.to_csv(\"8_marguerite_infos_avis.csv\")\n",
    "description_resto.to_csv(\"8_marguerite_description.csv\")"
   ]
  },
  {
   "cell_type": "code",
   "execution_count": null,
   "metadata": {},
   "outputs": [],
   "source": []
  }
 ],
 "metadata": {
  "kernelspec": {
   "display_name": "projetnlp",
   "language": "python",
   "name": "python3"
  },
  "language_info": {
   "codemirror_mode": {
    "name": "ipython",
    "version": 3
   },
   "file_extension": ".py",
   "mimetype": "text/x-python",
   "name": "python",
   "nbconvert_exporter": "python",
   "pygments_lexer": "ipython3",
   "version": "3.9.6"
  }
 },
 "nbformat": 4,
 "nbformat_minor": 2
}
