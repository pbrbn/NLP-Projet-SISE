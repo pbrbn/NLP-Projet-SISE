{
 "cells": [
  {
   "cell_type": "code",
   "execution_count": 2,
   "metadata": {},
   "outputs": [],
   "source": [
    "from restaurant_scraper import RestaurantScraper\n",
    "from find_url import find_url_restaurant"
   ]
  },
  {
   "cell_type": "markdown",
   "metadata": {},
   "source": [
    "# Scrapper les restaurants"
   ]
  },
  {
   "cell_type": "code",
   "execution_count": 19,
   "metadata": {},
   "outputs": [
    {
     "name": "stdout",
     "output_type": "stream",
     "text": [
      "Scraping reyna_restaurant_lyon...\n"
     ]
    },
    {
     "ename": "AttributeError",
     "evalue": "'NoneType' object has no attribute 'find_all'",
     "output_type": "error",
     "traceback": [
      "\u001b[1;31m---------------------------------------------------------------------------\u001b[0m",
      "\u001b[1;31mAttributeError\u001b[0m                            Traceback (most recent call last)",
      "Cell \u001b[1;32mIn[19], line 78\u001b[0m\n\u001b[0;32m     73\u001b[0m scraper \u001b[38;5;241m=\u001b[39m RestaurantScraper(v)\n\u001b[0;32m     74\u001b[0m \u001b[38;5;66;03m# infos_resto = scraper.scrape_infos_resto()\u001b[39;00m\n\u001b[0;32m     75\u001b[0m \u001b[38;5;66;03m# infos_resto.to_csv(f\"../../data/{k}_infos.csv\")\u001b[39;00m\n\u001b[0;32m     76\u001b[0m \n\u001b[0;32m     77\u001b[0m \u001b[38;5;66;03m# scrap description\u001b[39;00m\n\u001b[1;32m---> 78\u001b[0m description_resto \u001b[38;5;241m=\u001b[39m \u001b[43mscraper\u001b[49m\u001b[38;5;241;43m.\u001b[39;49m\u001b[43mscrape_description_resto\u001b[49m\u001b[43m(\u001b[49m\u001b[43m)\u001b[49m\n\u001b[0;32m     79\u001b[0m description_resto\u001b[38;5;241m.\u001b[39mto_csv(\u001b[38;5;124mf\u001b[39m\u001b[38;5;124m\"\u001b[39m\u001b[38;5;124m../../data/descritptions/\u001b[39m\u001b[38;5;132;01m{\u001b[39;00mk\u001b[38;5;132;01m}\u001b[39;00m\u001b[38;5;124m_description.csv\u001b[39m\u001b[38;5;124m\"\u001b[39m)\n\u001b[0;32m     81\u001b[0m \u001b[38;5;66;03m# scrap avis\u001b[39;00m\n\u001b[0;32m     82\u001b[0m \u001b[38;5;66;03m# infos_avis = scraper.scrape_infos_avis()\u001b[39;00m\n\u001b[0;32m     83\u001b[0m \u001b[38;5;66;03m# infos_avis.to_csv(f\"../../data/{k}_avis.csv\")\u001b[39;00m\n",
      "File \u001b[1;32md:\\GitHub\\NLP-Projet-SISE\\src\\scraping\\restaurant_scraper.py:245\u001b[0m, in \u001b[0;36mRestaurantScraper.scrape_description_resto\u001b[1;34m(self)\u001b[0m\n\u001b[0;32m    242\u001b[0m parent \u001b[38;5;241m=\u001b[39m soup\u001b[38;5;241m.\u001b[39mfind(\u001b[38;5;124m\"\u001b[39m\u001b[38;5;124mdiv\u001b[39m\u001b[38;5;124m\"\u001b[39m, {\u001b[38;5;124m\"\u001b[39m\u001b[38;5;124mclass\u001b[39m\u001b[38;5;124m\"\u001b[39m : \u001b[38;5;124m\"\u001b[39m\u001b[38;5;124mfIrGe _T bgMZj\u001b[39m\u001b[38;5;124m\"\u001b[39m})\n\u001b[0;32m    244\u001b[0m \u001b[38;5;66;03m#Trouver l'élément cible dans le parent\u001b[39;00m\n\u001b[1;32m--> 245\u001b[0m child \u001b[38;5;241m=\u001b[39m \u001b[43mparent\u001b[49m\u001b[38;5;241;43m.\u001b[39;49m\u001b[43mfind_all\u001b[49m(\u001b[38;5;124m\"\u001b[39m\u001b[38;5;124mdiv\u001b[39m\u001b[38;5;124m\"\u001b[39m,{ \u001b[38;5;124m\"\u001b[39m\u001b[38;5;124mclass\u001b[39m\u001b[38;5;124m\"\u001b[39m : \u001b[38;5;124m\"\u001b[39m\u001b[38;5;124mbiGQs _P pZUbB avBIb KxBGd\u001b[39m\u001b[38;5;124m\"\u001b[39m}) \n\u001b[0;32m    247\u001b[0m \u001b[38;5;28;01mif\u001b[39;00m child :\n\u001b[0;32m    248\u001b[0m     \u001b[38;5;66;03m#Récupérer la description\u001b[39;00m\n\u001b[0;32m    249\u001b[0m     \u001b[38;5;28;01mfor\u001b[39;00m descr \u001b[38;5;129;01min\u001b[39;00m child :\n",
      "\u001b[1;31mAttributeError\u001b[0m: 'NoneType' object has no attribute 'find_all'"
     ]
    }
   ],
   "source": [
    "# resto = [\"Racine\",\n",
    "#          \"Crêperie Amélie\",\n",
    "#          \"Frazarin Bistrot Franco Italien\",\n",
    "#          \"Pizza Pino Lyon\",\n",
    "#          \"Selcius\",\n",
    "#          \"La Source\",\n",
    "#          \"Le Bistro Autrement\",\n",
    "#          \"La Fabryk Lyon\",\n",
    "#          \"Kaffee Berlin Sans-Souci\",\n",
    "#          \"Marguerite Restaurant\",\n",
    "#          \"L'affreux Jojo\",\n",
    "#          \"L'Argot\",\n",
    "#          \"Bistrot Orcia\",\n",
    "#          \"Restaurant Paul Bocuse\",\n",
    "#          \"Brasserie L'est\",\n",
    "#          \"Le Casse Museau\",\n",
    "#          \"Monplaisir Côté Cour\",\n",
    "#          \"Flair\",\n",
    "#          \"La Table de Max\",\n",
    "#          \"Les Terasses de Lyon\",]\n",
    "\n",
    "# On va récupérer les urls\n",
    "resto = {\n",
    "    # \"creperie_amelie\": \"https://www.tripadvisor.fr/Restaurant_Review-g187265-d5955052-Reviews-Amelie_Creperie-Lyon_Rhone_Auvergne_Rhone_Alpes.html\",\n",
    "    # \"frazarin\": \"https://www.tripadvisor.fr/Restaurant_Review-g187265-d23110895-Reviews-Frazarin-Lyon_Rhone_Auvergne_Rhone_Alpes.html\",\n",
    "    # \"pizza_pino\": \"https://www.tripadvisor.fr/Restaurant_Review-g187265-d1807367-Reviews-Pizza_Pino_Lyon-Lyon_Rhone_Auvergne_Rhone_Alpes.html\",\n",
    "    # \"selcius\": \"https://www.tripadvisor.fr/Restaurant_Review-g187265-d5946702-Reviews-Selcius-Lyon_Rhone_Auvergne_Rhone_Alpes.html\",\n",
    "    # \"la_source\": \"https://www.tripadvisor.fr/Restaurant_Review-g187265-d17541665-Reviews-La_Source-Lyon_Rhone_Auvergne_Rhone_Alpes.html\",\n",
    "    # \"le_bistro_autrement\": \"https://www.tripadvisor.fr/Restaurant_Review-g187265-d1035904-Reviews-Le_Bistro_Autrement-Lyon_Rhone_Auvergne_Rhone_Alpes.html\",\n",
    "    # \"la_fabryk\": \"https://www.tripadvisor.fr/Restaurant_Review-g187265-d10196959-Reviews-La_Fabryk_Lyon-Lyon_Rhone_Auvergne_Rhone_Alpes.html\",\n",
    "    # \"kaffee_berlin\": \"https://www.tripadvisor.fr/Restaurant_Review-g187265-d4133958-Reviews-Kaffee_Berlin_Sans_Souci-Lyon_Rhone_Auvergne_Rhone_Alpes.html\",\n",
    "    # \"marguerite\": \"https://www.tripadvisor.fr/Restaurant_Review-g187265-d5223444-Reviews-Marguerite_Restaurant-Lyon_Rhone_Auvergne_Rhone_Alpes.html\",\n",
    "    # \"l_affreux_jojo\": \"https://www.tripadvisor.fr/Restaurant_Review-g187265-d15114321-Reviews-L_affreux_Jojo-Lyon_Rhone_Auvergne_Rhone_Alpes.html\",\n",
    "    # \"l_argot\": \"https://www.tripadvisor.fr/Restaurant_Review-g187265-d7612326-Reviews-L_Argot-Lyon_Rhone_Auvergne_Rhone_Alpes.html\",\n",
    "    # \"bistrot_orcia\": \"https://www.tripadvisor.fr/Restaurant_Review-g187265-d13848290-Reviews-Bistrot_Orcia-Lyon_Rhone_Auvergne_Rhone_Alpes.html\",\n",
    "    # \"paul_bocuse\": \"https://www.tripadvisor.fr/Restaurant_Review-g1718093-d719816-Reviews-Restaurant_Paul_Bocuse-Collonges_au_Mont_d_Or_Rhone_Auvergne_Rhone_Alpes.html\",\n",
    "    # \"brasserie_l_ouest\": \"https://www.tripadvisor.fr/Restaurant_Review-g187265-d795353-Reviews-Brasserie_De_L_est_Bocuse-Lyon_Rhone_Auvergne_Rhone_Alpes.html\",\n",
    "    # \"le_casse_museau\": \"https://www.tripadvisor.fr/Restaurant_Review-g187265-d949361-Reviews-Le_Casse_Museau-Lyon_Rhone_Auvergne_Rhone_Alpes.html\",\n",
    "    # \"monplaisir_cote_cour\": \"https://www.tripadvisor.fr/Restaurant_Review-g187265-d2329932-Reviews-Monplaisir_Cote_Cour-Lyon_Rhone_Auvergne_Rhone_Alpes.html\",\n",
    "    # \"flair\": \"https://www.tripadvisor.fr/Restaurant_Review-g187265-d3621738-Reviews-Flair-Lyon_Rhone_Auvergne_Rhone_Alpes.html\",\n",
    "    # \"la_table_de_max\": \"https://www.tripadvisor.fr/Restaurant_Review-g187265-d15639122-Reviews-La_Table_de_Max-Lyon_Rhone_Auvergne_Rhone_Alpes.html\",\n",
    "    # \"les_terasses_de_lyon\": \"https://www.tripadvisor.fr/Restaurant_Review-g187265-d3727154-Reviews-Les_Terrasses_de_Lyon-Lyon_Rhone_Auvergne_Rhone_Alpes.html\",\n",
    "    ### Ajout d'arrondissement du 6ème et 8ème\n",
    "    \"reyna_restaurant_lyon\": \"https://www.tripadvisor.fr/Restaurant_Review-g187265-d23243124-Reviews-Restaurant_Reyna-Lyon_Rhone_Auvergne_Rhone_Alpes.html\",\n",
    "    \"le_king\": \"https://www.tripadvisor.fr/Restaurant_Review-g187265-d27381255-Reviews-Le_King-Lyon_Rhone_Auvergne_Rhone_Alpes.html\",\n",
    "    \"monplaisir_l'esprit_bistrot\": \"https://www.tripadvisor.fr/Restaurant_Review-g187265-d4828543-Reviews-L_esprit_Bistrot_Monplaisir-Lyon_Rhone_Auvergne_Rhone_Alpes.html\",\n",
    "    \"mexicano\": \"https://www.tripadvisor.fr/Restaurant_Review-g187265-d21319954-Reviews-Mexican_o-Lyon_Rhone_Auvergne_Rhone_Alpes.html\",\n",
    "    \"le_chalet_fleury\": \"https://www.tripadvisor.fr/Restaurant_Review-g187265-d9850617-Reviews-Le_Chalet_Fleury-Lyon_Rhone_Auvergne_Rhone_Alpes.html\",\n",
    "    \"a_la_belle_epoque\": \"https://www.tripadvisor.fr/Restaurant_Review-g187265-d6762403-Reviews-A_La_Belle_Epoque-Lyon_Rhone_Auvergne_Rhone_Alpes.html\",\n",
    "    \"monplaisir_cote_cour\": \"https://www.tripadvisor.fr/Restaurant_Review-g187265-d2329932-Reviews-Monplaisir_Cote_Cour-Lyon_Rhone_Auvergne_Rhone_Alpes.html\",\n",
    "    \"le_lyon_de_l'atlas\": \"https://www.tripadvisor.fr/Restaurant_Review-g187265-d5408576-Reviews-Le_Lyon_De_L_atlas-Lyon_Rhone_Auvergne_Rhone_Alpes.html\",\n",
    "    \"yaafa_monplaisir\": \"https://www.tripadvisor.fr/Restaurant_Review-g187265-d15708120-Reviews-Yaafa_Monplaisir-Lyon_Rhone_Auvergne_Rhone_Alpes.html\",\n",
    "    \"les_gamings_de_la_place\" :\"https://www.tripadvisor.fr/Restaurant_Review-g187265-d11586956-Reviews-Les_Gamins_De_La_Place-Lyon_Rhone_Auvergne_Rhone_Alpes.html\",\n",
    "    ### Restaurant du 6ème\n",
    "    'restaurant_le_splendid_lyon': 'https://www.tripadvisor.fr/Restaurant_Review-g187265-d23571219-Reviews-Le_Splendid_Lyon-Lyon_Rhone_Auvergne_Rhone_Alpes.html',\n",
    "    'laffaire_du_6': 'https://www.tripadvisor.fr/Restaurant_Review-g187265-d26725252-Reviews-L_Affaire_du_6-Lyon_Rhone_Auvergne_Rhone_Alpes.html',\n",
    "    'le_book_lard': 'https://www.tripadvisor.fr/Restaurant_Review-g187265-d9701744-Reviews-Le_Book_Lard-Lyon_Rhone_Auvergne_Rhone_Alpes.html',\n",
    "    'restaurant_laventure': 'https://www.tripadvisor.fr/Restaurant_Review-g187265-d8356822-Reviews-L_aventure-Lyon_Rhone_Auvergne_Rhone_Alpes.html',\n",
    "    'le_comptoir_libanais_restaurant_libanais_lyon_6eme': 'https://www.tripadvisor.fr/Restaurant_Review-g187265-d23536439-Reviews-Le_Comptoir_Libanais-Lyon_Rhone_Auvergne_Rhone_Alpes.html',\n",
    "    'au_coq_en_pate': 'https://www.tripadvisor.fr/Restaurant_Review-g187265-d12384283-Reviews-Au_Coq_En_Pate-Lyon_Rhone_Auvergne_Rhone_Alpes.html',\n",
    "    'nano_trattoria_lyon_6': 'https://www.tripadvisor.fr/Restaurant_Review-g187265-d25266784-Reviews-Nano_Trattoria_Lyon_VI-Lyon_Rhone_Auvergne_Rhone_Alpes.html',\n",
    "    'le_morand': 'https://www.tripadvisor.fr/Restaurant_Review-g187265-d17101493-Reviews-Le_Morand-Lyon_Rhone_Auvergne_Rhone_Alpes.html',\n",
    "    'le_rive_gauche': 'https://www.tripadvisor.fr/Restaurant_Review-g187265-d1916260-Reviews-Le_Rive_Gauche-Lyon_Rhone_Auvergne_Rhone_Alpes.html',\n",
    "    'gueuleton': 'https://www.tripadvisor.fr/Restaurant_Review-g187265-d23756553-Reviews-Gueuleton_Lyon-Lyon_Rhone_Auvergne_Rhone_Alpes.html',\n",
    "    'agastache_restaurant_lyon': 'https://www.tripadvisor.fr/Restaurant_Review-g187265-d20287839-Reviews-Agastache_Restaurant-Lyon_Rhone_Auvergne_Rhone_Alpes.html#REVIEWS',\n",
    "    'tire_toi_une_buche': 'https://www.tripadvisor.fr/Restaurant_Review-g187265-d25018262-Reviews-Tire_toi_Une_Buche-Lyon_Rhone_Auvergne_Rhone_Alpes.html',\n",
    "    'm_restaurant': 'https://www.tripadvisor.fr/Restaurant_Review-g187265-d2500402-Reviews-M_Restaurant-Lyon_Rhone_Auvergne_Rhone_Alpes.html'\n",
    "}\n",
    "\n",
    "results_scrape_info_restau = {}\n",
    "for k, v in resto.items():\n",
    "      print(f\"Scraping {k}...\")\n",
    "      scraper = RestaurantScraper(v)\n",
    "      # infos_resto = scraper.scrape_infos_resto()\n",
    "      # infos_resto.to_csv(f\"../../data/{k}_infos.csv\")\n",
    "      \n",
    "      # scrap description\n",
    "      description_resto = scraper.scrape_description_resto()\n",
    "      description_resto.to_csv(f\"../../data/descritptions/{k}_description.csv\")\n",
    "\n",
    "      # scrap avis\n",
    "      # infos_avis = scraper.scrape_infos_avis()\n",
    "      # infos_avis.to_csv(f\"../../data/{k}_avis.csv\")\n",
    "      \n",
    "\n",
    "      print(infos_resto)\n",
    "      results_scrape_info_restau[k] = infos_resto\n"
   ]
  },
  {
   "cell_type": "code",
   "execution_count": null,
   "metadata": {},
   "outputs": [
    {
     "name": "stdout",
     "output_type": "stream",
     "text": [
      "dict_values([               Nom Type_Cuisine Fourchette_prix  \\\n",
      "0  Crêperie Amélie    Française              NA   \n",
      "\n",
      "                                    Adresse Note_moyenne Categorie_prix  \n",
      "0  112 Cours Charlemagne, 69002 Lyon France          2,5         €€-€€€  ,                                Nom                 Type_Cuisine  \\\n",
      "0  Frazarin Bistrot Franco Italien  Italienne, Française, Saine   \n",
      "\n",
      "   Fourchette_prix                             Adresse Note_moyenne  \\\n",
      "0  16,00 €-38,00 €  23 Rue De Condé, 69002 Lyon France          5,0   \n",
      "\n",
      "  Categorie_prix  \n",
      "0         €€-€€€  ,        Nom Type_Cuisine  Fourchette_prix                             Adresse  \\\n",
      "0  Selcius           NA  13,00 €-46,00 €  43 Quai Rambaud, 69002 Lyon France   \n",
      "\n",
      "  Note_moyenne Categorie_prix  \n",
      "0          2,5         €€-€€€  ,          Nom                        Type_Cuisine Fourchette_prix  \\\n",
      "0  La Source  Française, Saine, Bars-restaurants  7,00 €-29,00 €   \n",
      "\n",
      "                                         Adresse Note_moyenne Categorie_prix  \n",
      "0  17 B Rue Antoine Delandine, 69002 Lyon France          5,0             NA  ,                    Nom           Type_Cuisine  Fourchette_prix  \\\n",
      "0  Le Bistro Autrement  Française, Européenne  16,00 €-23,00 €   \n",
      "\n",
      "                                       Adresse Note_moyenne Categorie_prix  \n",
      "0  12 Pl. Ambroise Courtois, 69008 Lyon France          3,0         €€-€€€  ,               Nom Type_Cuisine Fourchette_prix  \\\n",
      "0  La Fabryk Lyon    Française  7,00 €-21,00 €   \n",
      "\n",
      "                                             Adresse Note_moyenne  \\\n",
      "0  74 Boulevard Jean XXIII Accessible TRAM T2 : B...          3,5   \n",
      "\n",
      "  Categorie_prix  \n",
      "0         €€-€€€  ,                               Nom  \\\n",
      "0  Marguerite Restaurant - Bocuse   \n",
      "\n",
      "                                        Type_Cuisine  Fourchette_prix  \\\n",
      "0  Française, Européenne, Saine, Brasserie gastro...  26,00 €-42,00 €   \n",
      "\n",
      "                                        Adresse Note_moyenne Categorie_prix  \n",
      "0  57 av. des Frères Lumière, 69008 Lyon France          4,0           €€€€  ,               Nom                       Type_Cuisine Fourchette_prix  \\\n",
      "0  L'affreux Jojo  Italienne, Méditerranéenne, Saine  9,00 €-15,00 €   \n",
      "\n",
      "                                     Adresse Note_moyenne Categorie_prix  \n",
      "0  61 Rue de la Part-Dieu, 69003 Lyon France          5,0         €€-€€€  ,        Nom                  Type_Cuisine  Fourchette_prix  \\\n",
      "0  L'Argot  Française, Européenne, Saine  15,00 €-30,00 €   \n",
      "\n",
      "                              Adresse Note_moyenne Categorie_prix  \n",
      "0  132 Rue Bugeaud, 69006 Lyon France          4,5         €€-€€€  ,                       Nom                  Type_Cuisine    Fourchette_prix  \\\n",
      "0  Restaurant Paul Bocuse  Française, Européenne, Saine  145,00 €-200,00 €   \n",
      "\n",
      "                                             Adresse Note_moyenne  \\\n",
      "0  40 Quai De La Plage, 69660 Collonges-au-Mont-d...          4,5   \n",
      "\n",
      "  Categorie_prix  \n",
      "0           €€€€  ,                           Nom                  Type_Cuisine  Fourchette_prix  \\\n",
      "0  Brasserie L'ouest - Bocuse  Française, Européenne, Saine  22,00 €-33,00 €   \n",
      "\n",
      "                                 Adresse Note_moyenne Categorie_prix  \n",
      "0  1 Quai du Commerce, 69009 Lyon France          4,0         €€-€€€  ,                Nom Type_Cuisine  Fourchette_prix  \\\n",
      "0  Le Casse Museau    Française  10,00 €-38,00 €   \n",
      "\n",
      "                             Adresse Note_moyenne Categorie_prix  \n",
      "0  2 Rue Chavanne, 69001 Lyon France          5,0         €€-€€€  ,                     Nom                    Type_Cuisine Fourchette_prix  \\\n",
      "0  Monplaisir Côté Cour  Française, Européenne, Moderne              NA   \n",
      "\n",
      "                                           Adresse Note_moyenne Categorie_prix  \n",
      "0  64 avenue des frères lumière, 69008 Lyon France          4,0         €€-€€€  ,                      Nom Type_Cuisine Fourchette_prix  \\\n",
      "0  Les Terrasses de Lyon    Française              NA   \n",
      "\n",
      "                                         Adresse Note_moyenne Categorie_prix  \n",
      "0  25 Montee Saint Barthelemy, 69005 Lyon France          4,5           €€€€  ])\n"
     ]
    }
   ],
   "source": [
    "print(results_scrape_info_restau.values())\n",
    "# Manque des restaurants dans le dictionnaire car lien pas toujours trouvé\n",
    "# Ne pas oubliez de rechanger à la main les petites coquilles Type_cuisine et fourchette_prix\n"
   ]
  },
  {
   "cell_type": "code",
   "execution_count": null,
   "metadata": {},
   "outputs": [],
   "source": [
    "test = find_url_restaurant(\"Racine\")"
   ]
  },
  {
   "cell_type": "code",
   "execution_count": 14,
   "metadata": {},
   "outputs": [
    {
     "data": {
      "text/plain": [
       "'https://www.tripadvisor.fr/Restaurant_Review-g187265-d1807367-Reviews-Pizza_Pino_Lyon-Lyon_Rhone_Auvergne_Rhone_Alpes.html'"
      ]
     },
     "execution_count": 14,
     "metadata": {},
     "output_type": "execute_result"
    }
   ],
   "source": [
    "test"
   ]
  },
  {
   "cell_type": "code",
   "execution_count": 15,
   "metadata": {},
   "outputs": [],
   "source": [
    "scraper = RestaurantScraper(test)"
   ]
  },
  {
   "cell_type": "code",
   "execution_count": 16,
   "metadata": {},
   "outputs": [
    {
     "name": "stdout",
     "output_type": "stream",
     "text": [
      "[]\n",
      "NA\n",
      "Erreur détectée : All arrays must be of the same length. Nouvelle tentative (1/10)...\n",
      "[<div class=\"CsAqy u Ci Ph w\"><span class=\"HUMGB CNLYa\"><a class=\"BMQDV _F Gv wSSLS SwZTJ\" href=\"#REVIEWS\"><div class=\"biGQs _P vvmrG\"><svg aria-labelledby=\":lithium-Rl9hrbnknjlq:\" class=\"UctUV d H0\" height=\"16\" viewbox=\"0 0 128 24\" width=\"88\"><title id=\":lithium-Rl9hrbnknjlq:\">3,0 sur 5 bulles</title><path d=\"M 12 0C5.388 0 0 5.388 0 12s5.388 12 12 12 12-5.38 12-12c0-6.612-5.38-12-12-12z\" transform=\"\"></path><path d=\"M 12 0C5.388 0 0 5.388 0 12s5.388 12 12 12 12-5.38 12-12c0-6.612-5.38-12-12-12z\" transform=\"translate(26 0)\"></path><path d=\"M 12 0C5.388 0 0 5.388 0 12s5.388 12 12 12 12-5.38 12-12c0-6.612-5.38-12-12-12z\" transform=\"translate(52 0)\"></path><path d=\"M 12 0C5.388 0 0 5.388 0 12s5.388 12 12 12 12-5.38 12-12c0-6.612-5.38-12-12-12zm0 2a9.983 9.983 0 019.995 10 10 10 0 01-10 10A10 10 0 012 12 10 10 0 0112 2z\" transform=\"translate(78 0)\"></path><path d=\"M 12 0C5.388 0 0 5.388 0 12s5.388 12 12 12 12-5.38 12-12c0-6.612-5.38-12-12-12zm0 2a9.983 9.983 0 019.995 10 10 10 0 01-10 10A10 10 0 012 12 10 10 0 0112 2z\" transform=\"translate(104 0)\"></path></svg><span class=\"GPKsO\">1 232<!-- --> avis</span></div></a></span><span class=\"HUMGB bVZKi\"><a class=\"BMQDV _F Gv wSSLS SwZTJ\" href=\"/Restaurants-g187265-Lyon_Rhone_Auvergne_Rhone_Alpes.html\"><span class=\"biGQs _P pZUbB hmDzD\"><span class=\"bTeln\"><b><span>Nº 2 333</span></b> sur 3 179 restaurants à Lyon</span></span></a></span><span class=\"HUMGB cPbcf\"><span class=\"bTeln\"><a class=\"UikNM _G B- _S _W _T c G_ wSSLS wnNQG\" href=\"/Restaurants-g187265-zfp10955-Lyon_Rhone_Auvergne_Rhone_Alpes.html\"><span class=\"biGQs _P XWJSj Wb\"><span class=\"biGQs _P pZUbB hmDzD\">€€-€€€</span></span></a></span><span class=\"biGQs _P pZUbB hmDzD\">, </span><span class=\"bTeln\"><a class=\"UikNM _G B- _S _W _T c G_ wSSLS wnNQG\" href=\"/Restaurants-g187265-c26-Lyon_Rhone_Auvergne_Rhone_Alpes.html\"><span class=\"biGQs _P XWJSj Wb\"><span class=\"biGQs _P pZUbB hmDzD\">Italienne</span></span></a></span><span class=\"biGQs _P pZUbB hmDzD\">, </span><span class=\"bTeln\"><a class=\"UikNM _G B- _S _W _T c G_ wSSLS wnNQG\" href=\"/Restaurants-g187265-c31-Lyon_Rhone_Auvergne_Rhone_Alpes.html\"><span class=\"biGQs _P XWJSj Wb\"><span class=\"biGQs _P pZUbB hmDzD\">Pizza</span></span></a></span></span></div>, <div class=\"CsAqy u Ci Ph w\"><span class=\"HUMGB bVZKi\"><span class=\"pOVIh\"><svg class=\"d Vb icjEL\" height=\"20px\" viewbox=\"0 0 24 24\" width=\"20px\"><path clip-rule=\"evenodd\" d=\"M4.25 9.799c0-4.247 3.488-7.707 7.75-7.707s7.75 3.46 7.75 7.707c0 2.28-1.138 4.477-2.471 6.323-1.31 1.813-2.883 3.388-3.977 4.483l-.083.083-.002.002-1.225 1.218-1.213-1.243-.03-.03-.012-.013c-1.1-1.092-2.705-2.687-4.035-4.53-1.324-1.838-2.452-4.024-2.452-6.293M12 3.592c-3.442 0-6.25 2.797-6.25 6.207 0 1.796.907 3.665 2.17 5.415 1.252 1.736 2.778 3.256 3.886 4.357l.043.042.16.164.148-.149.002-.002.061-.06c1.103-1.105 2.605-2.608 3.843-4.322 1.271-1.76 2.187-3.64 2.187-5.445 0-3.41-2.808-6.207-6.25-6.207m1.699 5.013a1.838 1.838 0 1 0-3.397 1.407A1.838 1.838 0 0 0 13.7 8.605m-2.976-2.38a3.338 3.338 0 1 1 2.555 6.168 3.338 3.338 0 0 1-2.555-6.169\" fill-rule=\"evenodd\"></path></svg></span><span class=\"bTeln\"><button class=\"UikNM _G B- _S _W _T c G_ wSSLS wnNQG\" type=\"button\"><span class=\"biGQs _P XWJSj Wb\"><div class=\"biGQs _P pZUbB hmDzD\" data-automation=\"restaurantsMapLinkOnName\">106 Rue du Président Édouard Herriot, 69002 Lyon France</div></span></button></span></span><span class=\"HUMGB bVZKi\"><span class=\"pOVIh\"><svg class=\"d Vb icjEL\" height=\"20px\" viewbox=\"0 0 24 24\" width=\"20px\"><path clip-rule=\"evenodd\" d=\"m6.405 2.13 5.173 5.177-1.826 2.725.096.207c.166.348.427.828.8 1.347.707.986 1.796 2.082 3.383 2.7l3.167-1.355 4.672 4.675-3.153 4.2-.32.037-.086-.745.086.745h-.004l-.006.001-.018.002-.06.005q-.074.007-.205.012c-.175.008-.424.01-.737-.004a12.5 12.5 0 0 1-2.557-.398c-2.11-.547-4.89-1.795-7.668-4.575-2.782-2.783-4.037-5.574-4.591-7.69a12.7 12.7 0 0 1-.41-2.568 9 9 0 0 1 .004-.946l.005-.06.002-.017v-.009s.001-.002.747.08l-.746-.082.036-.325zM3.63 6.067q-.003.191.01.488c.027.537.115 1.318.362 2.262.493 1.883 1.624 4.432 4.2 7.01 2.573 2.574 5.111 3.697 6.984 4.183.94.243 1.715.328 2.25.352q.294.012.485.007l1.969-2.622-3.035-3.037-2.773 1.186-.273-.094c-2.115-.726-3.516-2.137-4.38-3.34a10.5 10.5 0 0 1-.934-1.574 8 8 0 0 1-.29-.682l-.004-.013-.002-.004v-.002s-.001-.001.71-.242l-.711.24-.119-.35 1.567-2.339L6.26 4.108z\" fill-rule=\"evenodd\"></path></svg></span><span class=\"bTeln\"><a class=\"BMQDV _F Gv wSSLS SwZTJ\" href=\"tel:+33 4 78 38 30 15\"><span class=\"biGQs _P pZUbB hmDzD\">+33 4 78 38 30 15</span></a></span></span><span class=\"HUMGB bVZKi\"><span class=\"pOVIh\"><svg class=\"d Vb icjEL\" height=\"20px\" viewbox=\"0 0 24 24\" width=\"20px\"><path clip-rule=\"evenodd\" d=\"M22.45 18.446c0-.416-.367-.604-.449-.643a1.4 1.4 0 0 0-.338-.104 5 5 0 0 0-.594-.064c-.403-.023-.881-.023-1.196-.023H4.212c-.777 0-1.294.01-1.622.041-.152.014-.34.039-.506.102a.9.9 0 0 0-.338.218.68.68 0 0 0-.196.473v.666h20.9zM18.231 6.388H5.753v8.447H18.23zm-13.978-1.5v11.447H19.73V4.888z\" fill-rule=\"evenodd\"></path></svg></span><span class=\"bTeln\"><a class=\"BMQDV _F Gv wSSLS SwZTJ\" href=\"/ImproveListing-d1807367.html\" target=\"_blank\"><span class=\"biGQs _P pZUbB hmDzD\">+ Ajouter le site web</span></a></span></span><span class=\"HUMGB bVZKi\"><span class=\"pOVIh\"><svg class=\"d Vb icjEL\" height=\"20px\" viewbox=\"0 0 24 24\" width=\"20px\"><path clip-rule=\"evenodd\" d=\"M13.788 7.293 6.19 14.868l-.816 3.746 3.724-.839 7.588-7.583zm3.96 1.84-2.898-2.9.556-.554A2.32 2.32 0 0 1 17.02 5c.378 0 .73.104 1.031.315l.01.007.012.008c1.12.757 1.221 2.26.326 3.151zm-7.896 10.01-5.99 1.35q-.032.009-.064.007a.297.297 0 0 1-.29-.36l1.31-6.023 9.529-9.5A3.82 3.82 0 0 1 17.02 3.5c.66 0 1.318.184 1.893.587a3.536 3.536 0 0 1 .546 5.457z\" fill-rule=\"evenodd\"></path></svg></span><span class=\"bTeln\"><div class=\"C\"><span class=\"biGQs _P pZUbB hmDzD\"><a class=\"BMQDV _F Gv wSSLS SwZTJ\" href=\"/ClientLink?value=SEljXy9Vc2VyUmV2aWV3RWRpdC1nMTg3MjY1LWQxODA3MzY3LVBpenphX1Bpbm9fTHlvbi1MeW9uX1Job25lX0F1dmVyZ25lX1Job25lX0FscGVzLmh0bWxfTUtO\" referrerpolicy=\"origin\" target=\"_blank\"><span class=\"biGQs _P pZUbB hmDzD\">Écrire un avis</span></a></span></div></span></span><span class=\"RRPxU\"><span class=\"HUMGB FFZHg\" data-automation=\"top-info-hours\"><div class=\"DgJpu\"><button aria-labelledby=\":lithium-Rodhrbnknjlq:\" class=\"ypcsE _S wSSLS\" type=\"button\"><div class=\"TfqEQ\"><svg class=\"d Vb icjEL\" height=\"20px\" viewbox=\"0 0 24 24\" width=\"20px\"><path clip-rule=\"evenodd\" d=\"M12 3.75a8.25 8.25 0 1 0 0 16.5 8.25 8.25 0 0 0 0-16.5M2.25 12c0-5.385 4.365-9.75 9.75-9.75s9.75 4.365 9.75 9.75-4.365 9.75-9.75 9.75S2.25 17.385 2.25 12m9-5.5h1.5v5.19l3.28 3.28-1.06 1.06-3.72-3.72z\" fill-rule=\"evenodd\"></path></svg><div class=\"xubwN Ni\"><span class=\"biGQs _P egaXP vvmrG\">Fermé à l'heure actuelle</span><span class=\"biGQs _P pZUbB hmDzD\"> Voir tous les horaires</span></div><svg class=\"d Vb UmNoP\" height=\"20px\" viewbox=\"0 0 24 24\" width=\"20px\"><path d=\"M11 10v7h2v-7zm-.034-2.952a1.25 1.25 0 0 0-.216.692A1.24 1.24 0 0 0 12 9a1.25 1.25 0 1 0-1.034-1.952\"></path><path clip-rule=\"evenodd\" d=\"M12 2C6.477 2 2 6.477 2 12s4.477 10 10 10 10-4.477 10-10S17.523 2 12 2M4 12a8 8 0 1 1 16 0 8 8 0 0 1-16 0\" fill-rule=\"evenodd\"></path></svg></div></button><span class=\"KrpDA o\" id=\":lithium-Rodhrbnknjlq:\"><div class=\"ctmOc Pu\"><div class=\"DDrWd\"><div class=\"biGQs _P fiohW ngXxk\" data-automation=\"hoursModal\">Horaires<!-- --> </div></div><div class=\"VFyGJ Pi\"><div class=\"vIDox\"><div class=\"biGQs _P pZUbB hmDzD\">dim</div></div><div class=\"GbcTV\"><div class=\"RDJur e\"><span class=\"biGQs _P pZUbB hmDzD\">11:30<!-- -->-<!-- -->0:00</span></div></div></div><div class=\"VFyGJ Pi\"><div class=\"vIDox\"><div class=\"biGQs _P pZUbB hmDzD\">lun</div></div><div class=\"GbcTV\"><div class=\"RDJur e\"><span class=\"biGQs _P pZUbB hmDzD\">11:30<!-- -->-<!-- -->0:00</span></div></div></div><div class=\"VFyGJ Pi\"><div class=\"vIDox\"><div class=\"biGQs _P pZUbB hmDzD\">mar</div></div><div class=\"GbcTV\"><div class=\"RDJur e\"><span class=\"biGQs _P pZUbB hmDzD\">11:30<!-- -->-<!-- -->0:00</span></div></div></div><div class=\"VFyGJ Pi\"><div class=\"vIDox\"><div class=\"biGQs _P pZUbB hmDzD\">mer</div></div><div class=\"GbcTV\"><div class=\"RDJur e\"><span class=\"biGQs _P pZUbB hmDzD\">11:30<!-- -->-<!-- -->0:00</span></div></div></div><div class=\"VFyGJ Pi\"><div class=\"vIDox\"><div class=\"biGQs _P pZUbB hmDzD\">jeu</div></div><div class=\"GbcTV\"><div class=\"RDJur e\"><span class=\"biGQs _P pZUbB hmDzD\">11:30<!-- -->-<!-- -->0:00</span></div></div></div><div class=\"VFyGJ Pi\"><div class=\"vIDox\"><div class=\"biGQs _P pZUbB hmDzD\">ven</div></div><div class=\"GbcTV\"><div class=\"RDJur e\"><span class=\"biGQs _P pZUbB hmDzD\">11:30<!-- -->-<!-- -->0:00</span></div></div></div><div class=\"VFyGJ Pi\"><div class=\"vIDox\"><div class=\"biGQs _P pZUbB hmDzD\">sam</div></div><div class=\"GbcTV\"><div class=\"RDJur e\"><span class=\"biGQs _P pZUbB hmDzD\">11:30<!-- -->-<!-- -->0:00</span></div></div></div></div></span></div></span><span class=\"HUMGB FFZHg bVZKi\"><span class=\"bTeln\"><a class=\"BMQDV _F Gv wSSLS SwZTJ\" href=\"/ImproveListing-d1807367.html\" referrerpolicy=\"origin\" target=\"_blank\"><span class=\"biGQs _P pZUbB hmDzD\">Améliorer cette page établissement</span></a></span></span></span></div>]\n",
      "€€-€€€\n"
     ]
    }
   ],
   "source": [
    "infos_resto = scraper.scrape_infos_resto()\n",
    "# infos_avis = scraper.scrape_infos_avis()\n",
    "# description_resto = scraper.scrape_description_resto()"
   ]
  },
  {
   "cell_type": "code",
   "execution_count": 10,
   "metadata": {},
   "outputs": [
    {
     "data": {
      "text/html": [
       "<div>\n",
       "<style scoped>\n",
       "    .dataframe tbody tr th:only-of-type {\n",
       "        vertical-align: middle;\n",
       "    }\n",
       "\n",
       "    .dataframe tbody tr th {\n",
       "        vertical-align: top;\n",
       "    }\n",
       "\n",
       "    .dataframe thead th {\n",
       "        text-align: right;\n",
       "    }\n",
       "</style>\n",
       "<table border=\"1\" class=\"dataframe\">\n",
       "  <thead>\n",
       "    <tr style=\"text-align: right;\">\n",
       "      <th></th>\n",
       "      <th>Date</th>\n",
       "      <th>Notes</th>\n",
       "      <th>Commentaires</th>\n",
       "    </tr>\n",
       "  </thead>\n",
       "  <tbody>\n",
       "    <tr>\n",
       "      <th>0</th>\n",
       "      <td>nov. 2024</td>\n",
       "      <td>3,0</td>\n",
       "      <td>. Viande cuisson mal exécuter...\\n. Prix norma...</td>\n",
       "    </tr>\n",
       "    <tr>\n",
       "      <th>1</th>\n",
       "      <td>nov. 2024</td>\n",
       "      <td>5,0</td>\n",
       "      <td>Viandes d’excellente qualité, service parfait,...</td>\n",
       "    </tr>\n",
       "    <tr>\n",
       "      <th>2</th>\n",
       "      <td>nov. 2024</td>\n",
       "      <td>2,0</td>\n",
       "      <td>Sympa… mais beaucoup trop cher…c’est dommage c...</td>\n",
       "    </tr>\n",
       "    <tr>\n",
       "      <th>3</th>\n",
       "      <td>nov. 2024</td>\n",
       "      <td>1,0</td>\n",
       "      <td>Du VOL tout simplement. \\n\\nUn gueuleton c’est...</td>\n",
       "    </tr>\n",
       "    <tr>\n",
       "      <th>4</th>\n",
       "      <td>nov. 2024</td>\n",
       "      <td>3,0</td>\n",
       "      <td>Bonne soirée en globalité mais le manque de tr...</td>\n",
       "    </tr>\n",
       "  </tbody>\n",
       "</table>\n",
       "</div>"
      ],
      "text/plain": [
       "        Date Notes                                       Commentaires\n",
       "0  nov. 2024   3,0  . Viande cuisson mal exécuter...\\n. Prix norma...\n",
       "1  nov. 2024   5,0  Viandes d’excellente qualité, service parfait,...\n",
       "2  nov. 2024   2,0  Sympa… mais beaucoup trop cher…c’est dommage c...\n",
       "3  nov. 2024   1,0  Du VOL tout simplement. \\n\\nUn gueuleton c’est...\n",
       "4  nov. 2024   3,0  Bonne soirée en globalité mais le manque de tr..."
      ]
     },
     "execution_count": 10,
     "metadata": {},
     "output_type": "execute_result"
    }
   ],
   "source": [
    "infos_avis.head()"
   ]
  },
  {
   "cell_type": "code",
   "execution_count": 10,
   "metadata": {},
   "outputs": [
    {
     "data": {
      "text/html": [
       "<div>\n",
       "<style scoped>\n",
       "    .dataframe tbody tr th:only-of-type {\n",
       "        vertical-align: middle;\n",
       "    }\n",
       "\n",
       "    .dataframe tbody tr th {\n",
       "        vertical-align: top;\n",
       "    }\n",
       "\n",
       "    .dataframe thead th {\n",
       "        text-align: right;\n",
       "    }\n",
       "</style>\n",
       "<table border=\"1\" class=\"dataframe\">\n",
       "  <thead>\n",
       "    <tr style=\"text-align: right;\">\n",
       "      <th></th>\n",
       "      <th>Nom</th>\n",
       "      <th>Type_Cuisine</th>\n",
       "      <th>Fourchette_prix</th>\n",
       "      <th>Adresse</th>\n",
       "      <th>Note_moyenne</th>\n",
       "      <th>Categorie_prix</th>\n",
       "    </tr>\n",
       "  </thead>\n",
       "  <tbody>\n",
       "    <tr>\n",
       "      <th>0</th>\n",
       "      <td>Racine</td>\n",
       "      <td>Française</td>\n",
       "      <td>NA</td>\n",
       "      <td>Impasse Charavay, 69009 Lyon France</td>\n",
       "      <td>4,5</td>\n",
       "      <td>€€-€€€</td>\n",
       "    </tr>\n",
       "  </tbody>\n",
       "</table>\n",
       "</div>"
      ],
      "text/plain": [
       "      Nom Type_Cuisine Fourchette_prix                              Adresse  \\\n",
       "0  Racine    Française              NA  Impasse Charavay, 69009 Lyon France   \n",
       "\n",
       "  Note_moyenne Categorie_prix  \n",
       "0          4,5         €€-€€€  "
      ]
     },
     "execution_count": 10,
     "metadata": {},
     "output_type": "execute_result"
    }
   ],
   "source": [
    "infos_resto.head()"
   ]
  },
  {
   "cell_type": "code",
   "execution_count": 10,
   "metadata": {},
   "outputs": [
    {
     "data": {
      "text/html": [
       "<div>\n",
       "<style scoped>\n",
       "    .dataframe tbody tr th:only-of-type {\n",
       "        vertical-align: middle;\n",
       "    }\n",
       "\n",
       "    .dataframe tbody tr th {\n",
       "        vertical-align: top;\n",
       "    }\n",
       "\n",
       "    .dataframe thead th {\n",
       "        text-align: right;\n",
       "    }\n",
       "</style>\n",
       "<table border=\"1\" class=\"dataframe\">\n",
       "  <thead>\n",
       "    <tr style=\"text-align: right;\">\n",
       "      <th></th>\n",
       "      <th>Nom</th>\n",
       "      <th>Description</th>\n",
       "    </tr>\n",
       "  </thead>\n",
       "  <tbody>\n",
       "    <tr>\n",
       "      <th>0</th>\n",
       "      <td>Racine</td>\n",
       "      <td>NA</td>\n",
       "    </tr>\n",
       "  </tbody>\n",
       "</table>\n",
       "</div>"
      ],
      "text/plain": [
       "      Nom Description\n",
       "0  Racine          NA"
      ]
     },
     "execution_count": 10,
     "metadata": {},
     "output_type": "execute_result"
    }
   ],
   "source": [
    "description_resto.head()"
   ]
  },
  {
   "cell_type": "code",
   "execution_count": 40,
   "metadata": {},
   "outputs": [],
   "source": [
    "infos_resto.to_csv(\"8_marguerite_infos_resto.csv\")\n",
    "infos_avis.to_csv(\"8_marguerite_infos_avis.csv\")\n",
    "description_resto.to_csv(\"8_marguerite_description.csv\")"
   ]
  },
  {
   "cell_type": "code",
   "execution_count": null,
   "metadata": {},
   "outputs": [],
   "source": []
  }
 ],
 "metadata": {
  "kernelspec": {
   "display_name": "ProjetNLP",
   "language": "python",
   "name": "python3"
  },
  "language_info": {
   "codemirror_mode": {
    "name": "ipython",
    "version": 3
   },
   "file_extension": ".py",
   "mimetype": "text/x-python",
   "name": "python",
   "nbconvert_exporter": "python",
   "pygments_lexer": "ipython3",
   "version": "3.11.11"
  }
 },
 "nbformat": 4,
 "nbformat_minor": 2
}
