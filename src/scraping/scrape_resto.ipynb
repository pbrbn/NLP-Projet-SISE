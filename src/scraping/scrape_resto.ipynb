{
 "cells": [
  {
   "cell_type": "code",
   "execution_count": 1,
   "metadata": {},
   "outputs": [],
   "source": [
    "from class_webscrapping import WebScraper"
   ]
  },
  {
   "cell_type": "markdown",
   "metadata": {},
   "source": [
    "# Scrapper les restaurants"
   ]
  },
  {
   "cell_type": "code",
   "execution_count": 37,
   "metadata": {},
   "outputs": [],
   "source": [
    "scraper = WebScraper(\"https://www.tripadvisor.fr/Restaurant_Review-g187265-d5223444-Reviews-Marguerite_Restaurant-Lyon_Rhone_Auvergne_Rhone_Alpes.html\")"
   ]
  },
  {
   "cell_type": "code",
   "execution_count": 38,
   "metadata": {},
   "outputs": [
    {
     "name": "stdout",
     "output_type": "stream",
     "text": [
      "Erreur détectée : All arrays must be of the same length. Nouvelle tentative (1/5)...\n"
     ]
    }
   ],
   "source": [
    "infos_resto = scraper.scrape_infos_resto()\n",
    "infos_avis = scraper.scrape_infos_avis()\n",
    "description_resto = scraper.scrape_description_resto()"
   ]
  },
  {
   "cell_type": "code",
   "execution_count": 39,
   "metadata": {},
   "outputs": [
    {
     "data": {
      "text/html": [
       "<div>\n",
       "<style scoped>\n",
       "    .dataframe tbody tr th:only-of-type {\n",
       "        vertical-align: middle;\n",
       "    }\n",
       "\n",
       "    .dataframe tbody tr th {\n",
       "        vertical-align: top;\n",
       "    }\n",
       "\n",
       "    .dataframe thead th {\n",
       "        text-align: right;\n",
       "    }\n",
       "</style>\n",
       "<table border=\"1\" class=\"dataframe\">\n",
       "  <thead>\n",
       "    <tr style=\"text-align: right;\">\n",
       "      <th></th>\n",
       "      <th>Date</th>\n",
       "      <th>Notes</th>\n",
       "      <th>Commentaires</th>\n",
       "    </tr>\n",
       "  </thead>\n",
       "  <tbody>\n",
       "    <tr>\n",
       "      <th>0</th>\n",
       "      <td>déc. 2024</td>\n",
       "      <td>2,0</td>\n",
       "      <td>J’ai visité ce restaurant par curiosité de l’é...</td>\n",
       "    </tr>\n",
       "    <tr>\n",
       "      <th>1</th>\n",
       "      <td>déc. 2024</td>\n",
       "      <td>3,0</td>\n",
       "      <td>Vous avez réservé à 19h mais vous arrivez plus...</td>\n",
       "    </tr>\n",
       "    <tr>\n",
       "      <th>2</th>\n",
       "      <td>déc. 2024</td>\n",
       "      <td>4,0</td>\n",
       "      <td>accueil courtois et professionnel comme le ser...</td>\n",
       "    </tr>\n",
       "    <tr>\n",
       "      <th>3</th>\n",
       "      <td>nov. 2024</td>\n",
       "      <td>2,0</td>\n",
       "      <td>accueil médiocre , service ordinaire , plats o...</td>\n",
       "    </tr>\n",
       "    <tr>\n",
       "      <th>4</th>\n",
       "      <td>nov. 2024</td>\n",
       "      <td>5,0</td>\n",
       "      <td>Très bon accueil avec le sourire et profession...</td>\n",
       "    </tr>\n",
       "  </tbody>\n",
       "</table>\n",
       "</div>"
      ],
      "text/plain": [
       "        Date Notes                                       Commentaires\n",
       "0  déc. 2024   2,0  J’ai visité ce restaurant par curiosité de l’é...\n",
       "1  déc. 2024   3,0  Vous avez réservé à 19h mais vous arrivez plus...\n",
       "2  déc. 2024   4,0  accueil courtois et professionnel comme le ser...\n",
       "3  nov. 2024   2,0  accueil médiocre , service ordinaire , plats o...\n",
       "4  nov. 2024   5,0  Très bon accueil avec le sourire et profession..."
      ]
     },
     "execution_count": 39,
     "metadata": {},
     "output_type": "execute_result"
    }
   ],
   "source": [
    "infos_avis.head()"
   ]
  },
  {
   "cell_type": "code",
   "execution_count": 40,
   "metadata": {},
   "outputs": [],
   "source": [
    "infos_resto.to_csv(\"8_marguerite_infos_resto.csv\")\n",
    "infos_avis.to_csv(\"8_marguerite_infos_avis.csv\")\n",
    "description_resto.to_csv(\"8_marguerite_description.csv\")"
   ]
  },
  {
   "cell_type": "code",
   "execution_count": null,
   "metadata": {},
   "outputs": [],
   "source": []
  }
 ],
 "metadata": {
  "kernelspec": {
   "display_name": "projetnlp",
   "language": "python",
   "name": "python3"
  },
  "language_info": {
   "codemirror_mode": {
    "name": "ipython",
    "version": 3
   },
   "file_extension": ".py",
   "mimetype": "text/x-python",
   "name": "python",
   "nbconvert_exporter": "python",
   "pygments_lexer": "ipython3",
   "version": "3.9.6"
  }
 },
 "nbformat": 4,
 "nbformat_minor": 2
}
