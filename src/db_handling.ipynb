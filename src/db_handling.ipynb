{
 "cells": [
  {
   "cell_type": "code",
   "execution_count": null,
   "metadata": {},
   "outputs": [],
   "source": [
    "# Utilisation de gradio pour l'app avec SQLite + Docker ? https://www.youtube.com/watch?v=-GgG1Wb2F64&list=PLi0b6yHwHZcGaIy4ZGkYLZqssvzwqkBia&index=19&ab_channel=MASTER2SISEDATASCIENCE\n",
    "# https://www.sqlite.org/docs.html\n",
    "# Avantage -> Juste un pacakge, pas besoin d'installer un serveur, + facile pour déploiement docker\n",
    "# Acces avec des fichiers et des tables à l'intérieurs (pysqlite doit être installé avec C++, CMake etc -> Trop compliqué avec docker, on va utiliser pysqlite3 wheels -> version déjà compilée)\n",
    "# Compatbile avec streamlit mais démo avec gradio"
   ]
  },
  {
   "cell_type": "code",
   "execution_count": null,
   "metadata": {},
   "outputs": [],
   "source": [
    "# TODO faire le sqlite + ajouter des champs dans le scrapping(clef étrangère)"
   ]
  },
  {
   "cell_type": "code",
   "execution_count": null,
   "metadata": {},
   "outputs": [
    {
     "ename": "",
     "evalue": "",
     "output_type": "error",
     "traceback": [
      "\u001b[1;31mRunning cells with '.conda (Python 3.11.11)' requires the ipykernel package.\n",
      "\u001b[1;31mRun the following command to install 'ipykernel' into the Python environment. \n",
      "\u001b[1;31mCommand: 'conda install -n .conda ipykernel --update-deps --force-reinstall'"
     ]
    }
   ],
   "source": []
  },
  {
   "cell_type": "code",
   "execution_count": 1,
   "metadata": {},
   "outputs": [],
   "source": [
    "from scrapping_infos_resto import infos_resto\n",
    "from scrapping_infos_avis import infos_avis # (url : str, max_pages : int = None) -> pd.DataFrame :"
   ]
  },
  {
   "cell_type": "code",
   "execution_count": 2,
   "metadata": {},
   "outputs": [
    {
     "name": "stdout",
     "output_type": "stream",
     "text": [
      "Test Function infos resto\n"
     ]
    }
   ],
   "source": [
    "print(\"Test Function infos resto\")\n",
    "restau = infos_resto(\"https://www.tripadvisor.fr/Restaurant_Review-g187265-d19896976-Reviews-Empanadas_Club-Lyon_Rhone_Auvergne_Rhone_Alpes.html\")\n"
   ]
  },
  {
   "cell_type": "code",
   "execution_count": 17,
   "metadata": {},
   "outputs": [
    {
     "name": "stdout",
     "output_type": "stream",
     "text": [
      "Help on function infos_avis in module scrapping_infos_avis:\n",
      "\n",
      "infos_avis(url: str, max_pages: int = None) -> pandas.core.frame.DataFrame\n",
      "    Scrape les informations des avis sur plusieurs pages à partir d'une URL de base.\n",
      "    Arguments : \n",
      "        - url : une URL de la page web contenant les avis.\n",
      "        - max_pages : Nombre maximum de pages à scraper.\n",
      "    \n",
      "    Retourne : \n",
      "        - Un data frame pandas contenant la date, la note et le commentaire de chaque avis\n",
      "\n"
     ]
    }
   ],
   "source": [
    "help(infos_avis)"
   ]
  },
  {
   "cell_type": "code",
   "execution_count": 12,
   "metadata": {},
   "outputs": [
    {
     "data": {
      "text/html": [
       "<div>\n",
       "<style scoped>\n",
       "    .dataframe tbody tr th:only-of-type {\n",
       "        vertical-align: middle;\n",
       "    }\n",
       "\n",
       "    .dataframe tbody tr th {\n",
       "        vertical-align: top;\n",
       "    }\n",
       "\n",
       "    .dataframe thead th {\n",
       "        text-align: right;\n",
       "    }\n",
       "</style>\n",
       "<table border=\"1\" class=\"dataframe\">\n",
       "  <thead>\n",
       "    <tr style=\"text-align: right;\">\n",
       "      <th></th>\n",
       "      <th>Nom</th>\n",
       "      <th>Type_Cuisine</th>\n",
       "      <th>Fourchette_prix</th>\n",
       "      <th>Adresse</th>\n",
       "      <th>Note_moyenne</th>\n",
       "    </tr>\n",
       "  </thead>\n",
       "  <tbody>\n",
       "    <tr>\n",
       "      <th>0</th>\n",
       "      <td>Empanadas Club</td>\n",
       "      <td>Latino, Saine, Argentine, Sud-américaine</td>\n",
       "      <td>15,00€-25,00€</td>\n",
       "      <td>4 Rue Pizay Près De La Place Des Terreaux, 690...</td>\n",
       "      <td>5,0</td>\n",
       "    </tr>\n",
       "  </tbody>\n",
       "</table>\n",
       "</div>"
      ],
      "text/plain": [
       "              Nom                              Type_Cuisine Fourchette_prix  \\\n",
       "0  Empanadas Club  Latino, Saine, Argentine, Sud-américaine   15,00€-25,00€   \n",
       "\n",
       "                                             Adresse Note_moyenne  \n",
       "0  4 Rue Pizay Près De La Place Des Terreaux, 690...          5,0  "
      ]
     },
     "execution_count": 12,
     "metadata": {},
     "output_type": "execute_result"
    }
   ],
   "source": [
    "restau.head()"
   ]
  },
  {
   "cell_type": "code",
   "execution_count": 14,
   "metadata": {},
   "outputs": [
    {
     "name": "stdout",
     "output_type": "stream",
     "text": [
      "Test Function avis\n",
      "        Date Notes                                       Commentaires\n",
      "0  nov. 2024   5,0  Un repas excellent servis rapidement dans une ...\n",
      "1  déc. 2024   5,0  très bien pendant les fêtes des lumières et en...\n",
      "2  nov. 2024   5,0  Très bel accueil et très belle variété d'empan...\n",
      "3  nov. 2024   5,0  Très belle soirée passée entre amis dans ce li...\n",
      "4  nov. 2024   5,0  Que ce soit sur le pouce avant une séance de c...\n"
     ]
    }
   ],
   "source": [
    "print(\"Test Function avis\")\n",
    "avis = infos_avis(\"https://www.tripadvisor.fr/Restaurant_Review-g187265-d19896976-Reviews-Empanadas_Club-Lyon_Rhone_Auvergne_Rhone_Alpes.html\", 5)\n",
    "print(avis.head())"
   ]
  },
  {
   "cell_type": "code",
   "execution_count": 15,
   "metadata": {},
   "outputs": [
    {
     "data": {
      "text/html": [
       "<div>\n",
       "<style scoped>\n",
       "    .dataframe tbody tr th:only-of-type {\n",
       "        vertical-align: middle;\n",
       "    }\n",
       "\n",
       "    .dataframe tbody tr th {\n",
       "        vertical-align: top;\n",
       "    }\n",
       "\n",
       "    .dataframe thead th {\n",
       "        text-align: right;\n",
       "    }\n",
       "</style>\n",
       "<table border=\"1\" class=\"dataframe\">\n",
       "  <thead>\n",
       "    <tr style=\"text-align: right;\">\n",
       "      <th></th>\n",
       "      <th>Date</th>\n",
       "      <th>Notes</th>\n",
       "      <th>Commentaires</th>\n",
       "    </tr>\n",
       "  </thead>\n",
       "  <tbody>\n",
       "    <tr>\n",
       "      <th>0</th>\n",
       "      <td>nov. 2024</td>\n",
       "      <td>5,0</td>\n",
       "      <td>Un repas excellent servis rapidement dans une ...</td>\n",
       "    </tr>\n",
       "    <tr>\n",
       "      <th>1</th>\n",
       "      <td>déc. 2024</td>\n",
       "      <td>5,0</td>\n",
       "      <td>très bien pendant les fêtes des lumières et en...</td>\n",
       "    </tr>\n",
       "    <tr>\n",
       "      <th>2</th>\n",
       "      <td>nov. 2024</td>\n",
       "      <td>5,0</td>\n",
       "      <td>Très bel accueil et très belle variété d'empan...</td>\n",
       "    </tr>\n",
       "    <tr>\n",
       "      <th>3</th>\n",
       "      <td>nov. 2024</td>\n",
       "      <td>5,0</td>\n",
       "      <td>Très belle soirée passée entre amis dans ce li...</td>\n",
       "    </tr>\n",
       "    <tr>\n",
       "      <th>4</th>\n",
       "      <td>nov. 2024</td>\n",
       "      <td>5,0</td>\n",
       "      <td>Que ce soit sur le pouce avant une séance de c...</td>\n",
       "    </tr>\n",
       "  </tbody>\n",
       "</table>\n",
       "</div>"
      ],
      "text/plain": [
       "        Date Notes                                       Commentaires\n",
       "0  nov. 2024   5,0  Un repas excellent servis rapidement dans une ...\n",
       "1  déc. 2024   5,0  très bien pendant les fêtes des lumières et en...\n",
       "2  nov. 2024   5,0  Très bel accueil et très belle variété d'empan...\n",
       "3  nov. 2024   5,0  Très belle soirée passée entre amis dans ce li...\n",
       "4  nov. 2024   5,0  Que ce soit sur le pouce avant une séance de c..."
      ]
     },
     "execution_count": 15,
     "metadata": {},
     "output_type": "execute_result"
    }
   ],
   "source": [
    "avis.head()\n"
   ]
  },
  {
   "cell_type": "code",
   "execution_count": 16,
   "metadata": {},
   "outputs": [],
   "source": [
    "avis.to_csv(\"avis.csv\", index = False)\n",
    "restau.to_csv(\"restau.csv\", index = False)"
   ]
  },
  {
   "cell_type": "markdown",
   "metadata": {},
   "source": [
    "#### Création DB"
   ]
  },
  {
   "cell_type": "code",
   "execution_count": 4,
   "metadata": {},
   "outputs": [],
   "source": [
    "import sqlite3"
   ]
  },
  {
   "cell_type": "code",
   "execution_count": 14,
   "metadata": {},
   "outputs": [],
   "source": [
    "# Connexion à une base de données\n",
    "conn = sqlite3.connect(\"restau.db\") # Ouvrir la connexion\n"
   ]
  },
  {
   "cell_type": "code",
   "execution_count": null,
   "metadata": {},
   "outputs": [],
   "source": [
    "# Créer un curseur pour exécuter des requêtes SQL\n",
    "cursor = conn.cursor()\n",
    "\n",
    "# Exemple de création de table\n",
    "cursor.execute(\"\"\"\n",
    "CREATE TABLE restaurants (\n",
    "    id INTEGER PRIMARY KEY AUTOINCREMENT,\n",
    "    nom TEXT NOT NULL,\n",
    "    type_cuisine TEXT,\n",
    "    fourchette_prix TEXT,\n",
    "    adresse TEXT,\n",
    "    note_moyenne REAL\n",
    ")\n",
    "\"\"\")\n",
    "\n",
    "# Création de la table avis\n",
    "cursor.execute(\"\"\"\n",
    "CREATE TABLE avis (\n",
    "    id INTEGER PRIMARY KEY AUTOINCREMENT,\n",
    "    id_restaurant INTEGER,\n",
    "    date DATE,\n",
    "    note INTEGER,\n",
    "    commentaire TEXT,\n",
    "    FOREIGN KEY (id_restaurant) REFERENCES restaurants(id)\n",
    ")\n",
    "\"\"\")\n",
    "\n",
    "# Valider requêtes\n",
    "conn.commit()"
   ]
  },
  {
   "cell_type": "code",
   "execution_count": 16,
   "metadata": {},
   "outputs": [],
   "source": [
    "# Insertion de données en dur pour le moemnt\n",
    "cursor.execute(\"\"\"\n",
    "INSERT INTO restaurants (nom, type_cuisine, fourchette_prix, adresse, note_moyenne)\n",
    "VALUES ('Empanadas Club', 'Latino, Saine, Argentine, Sud-américaine', '15,00€-25,00', '4 Rue Pizay Près De La Place Des Terreaux, 69001 Lyon France', 5.0)\n",
    "\"\"\")\n",
    "\n",
    "# Valider requêtes\n",
    "conn.commit()"
   ]
  },
  {
   "cell_type": "code",
   "execution_count": 17,
   "metadata": {},
   "outputs": [
    {
     "name": "stdout",
     "output_type": "stream",
     "text": [
      "(1, 'Empanadas Club', 'Latino, Saine, Argentine, Sud-américaine', '15,00€-25,00', '4 Rue Pizay Près De La Place Des Terreaux, 69001 Lyon France', 5.0)\n"
     ]
    }
   ],
   "source": [
    "cursor.execute(\"SELECT * FROM restaurants\")\n",
    "rows = cursor.fetchall()\n",
    "\n",
    "for row in rows:\n",
    "    print(row)\n",
    "\n"
   ]
  },
  {
   "cell_type": "code",
   "execution_count": null,
   "metadata": {},
   "outputs": [],
   "source": []
  },
  {
   "cell_type": "code",
   "execution_count": 10,
   "metadata": {},
   "outputs": [],
   "source": [
    "conn.close() # Fermer la connexion\n"
   ]
  }
 ],
 "metadata": {
  "kernelspec": {
   "display_name": "ProjetNLP",
   "language": "python",
   "name": "python3"
  },
  "language_info": {
   "codemirror_mode": {
    "name": "ipython",
    "version": 3
   },
   "file_extension": ".py",
   "mimetype": "text/x-python",
   "name": "python",
   "nbconvert_exporter": "python",
   "pygments_lexer": "ipython3",
   "version": "3.11.11"
  }
 },
 "nbformat": 4,
 "nbformat_minor": 2
}
